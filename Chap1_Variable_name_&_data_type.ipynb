{
 "cells": [
  {
   "cell_type": "markdown",
   "metadata": {},
   "source": [
    "## **Hello World, Let's start from the beginning**"
   ]
  },
  {
   "cell_type": "markdown",
   "metadata": {},
   "source": [
    "## **Variables**\n",
    "Python only keeps track of current value of variable\n",
    "\n",
    "### Rules\n",
    "> Variable names can contain only letters, numbers, and underscores. They can start with a letter or an underscore, but not with a number. For instance, you can call a variable message_1 but not 1_message.\n",
    "\n",
    "> Spaces are not allowed in variable names, but underscores can be used to separate words in variable names. For example, greeting_message works but greeting message will cause errors.\n",
    "\n",
    "> Avoid using Python keywords and function names as variable names.For example, do not use the word print as a variable name; Python has reserved it for a particular programmatic purpose.\n",
    "\n",
    "> Variable names should be short but descriptive. For example, name is better than n, student_name is better than s_n, and name_length is better than length_of_persons_name.\n",
    "\n",
    "> Be careful when using the lowercase letter l and the uppercase letter O because they could be confused with the numbers 1 and 0.\n"
   ]
  },
  {
   "cell_type": "markdown",
   "metadata": {},
   "source": [
    "## Traceback\n",
    "It is a record of where the interpreter ran into trouble when trying to execute the code.\n"
   ]
  },
  {
   "cell_type": "code",
   "execution_count": 2,
   "metadata": {},
   "outputs": [
    {
     "ename": "<class 'NameError'>",
     "evalue": "name 'messge' is not defined",
     "output_type": "error",
     "traceback": [
      "\u001b[0;31m---------------------------------------------------------------------------\u001b[0m",
      "\u001b[0;31mNameError\u001b[0m                                 Traceback (most recent call last)",
      "Cell \u001b[0;32mIn[2], line 2\u001b[0m\n\u001b[1;32m      1\u001b[0m message\u001b[38;5;241m=\u001b[39m\u001b[38;5;124m\"\u001b[39m\u001b[38;5;124mHello Wordl\u001b[39m\u001b[38;5;124m\"\u001b[39m\n\u001b[0;32m----> 2\u001b[0m \u001b[38;5;28mprint\u001b[39m(\u001b[43mmessge\u001b[49m)\n",
      "\u001b[0;31mNameError\u001b[0m: name 'messge' is not defined"
     ]
    }
   ],
   "source": [
    "message=\"Hello Wordl\"\n",
    "print(messge)"
   ]
  },
  {
   "cell_type": "markdown",
   "metadata": {},
   "source": [
    "## **Strings**\n",
    "A string is a series of characters. Anything inside quotes is considered as a string in Python."
   ]
  },
  {
   "cell_type": "code",
   "execution_count": 4,
   "metadata": {},
   "outputs": [
    {
     "name": "stdout",
     "output_type": "stream",
     "text": [
      "This is a string.\n",
      "This is a string.\n",
      "I told my friend \"Python is the best programming language\"\n",
      "I remember, I have no 'friend'\n",
      "One of Python's strength is its community\n"
     ]
    }
   ],
   "source": [
    "print(\"This is a string.\")\n",
    "print('This is a string.')\n",
    "\n",
    "print('I told my friend \"Python is the best programming language\"')\n",
    "print (\"I remember, I have no 'friend'\")\n",
    "print(\"One of Python's strength is its community\")"
   ]
  },
  {
   "cell_type": "markdown",
   "metadata": {},
   "source": [
    "#### Changing Case in a String with Methods\n",
    "A method() is an action that Python can perform on a piece of data."
   ]
  },
  {
   "cell_type": "code",
   "execution_count": 6,
   "metadata": {},
   "outputs": [
    {
     "name": "stdout",
     "output_type": "stream",
     "text": [
      "Satish Karki\n",
      "SATISH KARKI\n",
      "satish karki\n"
     ]
    }
   ],
   "source": [
    "name=\"satish karki\"\n",
    "print(name.title())\n",
    "print(name.upper())\n",
    "print(name.lower())"
   ]
  },
  {
   "cell_type": "markdown",
   "metadata": {},
   "source": [
    "#### Using Variables in Strings\n",
    "**f-strings** where f stands for  format because Python formats the string by replacing the name of any variable in braces with its value"
   ]
  },
  {
   "cell_type": "code",
   "execution_count": 10,
   "metadata": {},
   "outputs": [
    {
     "name": "stdout",
     "output_type": "stream",
     "text": [
      "satish karki\n",
      "Hello, Satish Karki!\n"
     ]
    }
   ],
   "source": [
    "first_name=\"satish\"\n",
    "last_name=\"karki\"\n",
    "full_name= f\"{first_name} {last_name}\"\n",
    "print (full_name)\n",
    "print (f\"Hello, {full_name.title()}!\")"
   ]
  },
  {
   "cell_type": "markdown",
   "metadata": {},
   "source": [
    "#### Adding Whitespace to Strings with Tabs or Newlines\n",
    "In programming, whitespace refers to any nonprinting characters, such as spaces, tabs, and end-of-line symbols.\n",
    "> To add a tab use \\t\n",
    "\n",
    "> To add a newline use \\n\n",
    "\n",
    "> To combine tabs and newline \\n\\t"
   ]
  },
  {
   "cell_type": "code",
   "execution_count": 13,
   "metadata": {},
   "outputs": [
    {
     "name": "stdout",
     "output_type": "stream",
     "text": [
      "Language:python\n",
      "Language:\tpython\n"
     ]
    }
   ],
   "source": [
    "print(\"Language:python\")\n",
    "print(\"Language:\\tpython\")"
   ]
  },
  {
   "cell_type": "code",
   "execution_count": 15,
   "metadata": {},
   "outputs": [
    {
     "name": "stdout",
     "output_type": "stream",
     "text": [
      "Language:\n",
      "Python,\n",
      "Java,\n",
      "C++\n"
     ]
    }
   ],
   "source": [
    "print(\"Language:\\nPython,\\nJava,\\nC++\")"
   ]
  },
  {
   "cell_type": "code",
   "execution_count": 18,
   "metadata": {},
   "outputs": [
    {
     "name": "stdout",
     "output_type": "stream",
     "text": [
      "Language:\n",
      "\tPython,\n",
      "\tJava,\n",
      "\tC++\n"
     ]
    }
   ],
   "source": [
    "print(\"Language:\\n\\tPython,\\n\\tJava,\\n\\tC++\")"
   ]
  },
  {
   "cell_type": "markdown",
   "metadata": {},
   "source": [
    "#### Stripping Whitespace\n",
    "> To strip whitespace on the right side rstrip()\n",
    "\n",
    "> To strip whitespace on the left side lstrip()\n",
    "\n",
    "> To strip whitespace on both side strip()\n",
    "\n",
    "> To remove prefixes, use removeprefix('https://')\n"
   ]
  },
  {
   "cell_type": "code",
   "execution_count": 22,
   "metadata": {},
   "outputs": [
    {
     "name": "stdout",
     "output_type": "stream",
     "text": [
      " python\n",
      "python \n",
      "python\n"
     ]
    }
   ],
   "source": [
    "language=\" python \"\n",
    "print(language.rstrip())\n",
    "print(language.lstrip())\n",
    "print(language.strip())"
   ]
  },
  {
   "cell_type": "code",
   "execution_count": 27,
   "metadata": {},
   "outputs": [
    {
     "name": "stdout",
     "output_type": "stream",
     "text": [
      "satishkarki.com\n",
      "https://satishkarki\n"
     ]
    }
   ],
   "source": [
    "website=\"https://satishkarki.com\"\n",
    "print(website.removeprefix(\"https://\"))\n",
    "print(website.removesuffix(\".com\"))"
   ]
  },
  {
   "cell_type": "markdown",
   "metadata": {},
   "source": [
    "## Numbers\n",
    "> add (+), subtract(-), multiply (*) and divide (/), exponent (**)\n",
    "\n",
    "> Underscores in numbers\n",
    "\n",
    "> When you divide any two numbers, the result is always float\n",
    "\n",
    "> Underscores in Numbers: it will group digits to make large numbers more readable\n",
    "\n",
    "> Variable name with uppercase can be interpreted as constant"
   ]
  },
  {
   "cell_type": "code",
   "execution_count": 2,
   "metadata": {},
   "outputs": [
    {
     "name": "stdout",
     "output_type": "stream",
     "text": [
      "0.30000000000000004\n",
      "0.30000000000000004\n"
     ]
    }
   ],
   "source": [
    "# Be Aware of this Python feature, more will be discussed later about it\n",
    "print(0.2+0.1)\n",
    "print(3*0.1)"
   ]
  },
  {
   "cell_type": "code",
   "execution_count": 5,
   "metadata": {},
   "outputs": [
    {
     "name": "stdout",
     "output_type": "stream",
     "text": [
      "2.0\n",
      "2\n"
     ]
    }
   ],
   "source": [
    "print(4/2)\n",
    "print(1+1)"
   ]
  },
  {
   "cell_type": "code",
   "execution_count": 6,
   "metadata": {},
   "outputs": [
    {
     "name": "stdout",
     "output_type": "stream",
     "text": [
      "14000000000\n"
     ]
    }
   ],
   "source": [
    "long_number=14_000_000_000\n",
    "print(long_number)"
   ]
  },
  {
   "cell_type": "code",
   "execution_count": 9,
   "metadata": {},
   "outputs": [
    {
     "name": "stdout",
     "output_type": "stream",
     "text": [
      "1 2 3\n"
     ]
    }
   ],
   "source": [
    "# Multiple Assignment\n",
    "x,y,z=1,2,3\n",
    "print(x,y,z)"
   ]
  },
  {
   "cell_type": "code",
   "execution_count": 10,
   "metadata": {},
   "outputs": [
    {
     "name": "stdout",
     "output_type": "stream",
     "text": [
      "10\n",
      "11\n"
     ]
    }
   ],
   "source": [
    "MAX_VALUE=10\n",
    "print(MAX_VALUE)\n",
    "MAX_VALUE=MAX_VALUE+1\n",
    "print(MAX_VALUE)"
   ]
  },
  {
   "cell_type": "code",
   "execution_count": 1,
   "metadata": {},
   "outputs": [
    {
     "name": "stdout",
     "output_type": "stream",
     "text": [
      "The Zen of Python, by Tim Peters\n",
      "\n",
      "Beautiful is better than ugly.\n",
      "Explicit is better than implicit.\n",
      "Simple is better than complex.\n",
      "Complex is better than complicated.\n",
      "Flat is better than nested.\n",
      "Sparse is better than dense.\n",
      "Readability counts.\n",
      "Special cases aren't special enough to break the rules.\n",
      "Although practicality beats purity.\n",
      "Errors should never pass silently.\n",
      "Unless explicitly silenced.\n",
      "In the face of ambiguity, refuse the temptation to guess.\n",
      "There should be one-- and preferably only one --obvious way to do it.\n",
      "Although that way may not be obvious at first unless you're Dutch.\n",
      "Now is better than never.\n",
      "Although never is often better than *right* now.\n",
      "If the implementation is hard to explain, it's a bad idea.\n",
      "If the implementation is easy to explain, it may be a good idea.\n",
      "Namespaces are one honking great idea -- let's do more of those!\n"
     ]
    }
   ],
   "source": [
    "import this"
   ]
  },
  {
   "cell_type": "code",
   "execution_count": null,
   "metadata": {},
   "outputs": [],
   "source": []
  }
 ],
 "metadata": {
  "kernelspec": {
   "display_name": "Python 3 (ipykernel)",
   "language": "python",
   "name": "python3"
  },
  "language_info": {
   "codemirror_mode": {
    "name": "ipython",
    "version": 3
   },
   "file_extension": ".py",
   "mimetype": "text/x-python",
   "name": "python",
   "nbconvert_exporter": "python",
   "pygments_lexer": "ipython3",
   "version": "3.13.0"
  }
 },
 "nbformat": 4,
 "nbformat_minor": 4
}
