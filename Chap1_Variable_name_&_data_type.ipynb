{
  "metadata": {
    "kernelspec": {
      "name": "python",
      "display_name": "Python (Pyodide)",
      "language": "python"
    },
    "language_info": {
      "codemirror_mode": {
        "name": "python",
        "version": 3
      },
      "file_extension": ".py",
      "mimetype": "text/x-python",
      "name": "python",
      "nbconvert_exporter": "python",
      "pygments_lexer": "ipython3",
      "version": "3.8"
    }
  },
  "nbformat_minor": 4,
  "nbformat": 4,
  "cells": [
    {
      "cell_type": "markdown",
      "source": "## **Hello World, Let's start from the beginning**",
      "metadata": {}
    },
    {
      "cell_type": "code",
      "source": "print(\"Hello Python Interpreter!\")",
      "metadata": {
        "trusted": true
      },
      "outputs": [
        {
          "name": "stdout",
          "text": "Hello Python Interpreter!\n",
          "output_type": "stream"
        }
      ],
      "execution_count": 1
    },
    {
      "cell_type": "code",
      "source": "message=\"Hello World!\"\nprint (message)\n\nmessage=\"Hello Space!\"\nprint (message)",
      "metadata": {
        "trusted": true
      },
      "outputs": [
        {
          "name": "stdout",
          "text": "Hello World!\nHello Space!\n",
          "output_type": "stream"
        }
      ],
      "execution_count": 1
    },
    {
      "cell_type": "markdown",
      "source": "## **Variables**\nPython only keeps track of current value of variable\n\n### Rules\n> Variable names can contain only letters, numbers, and underscores. They can start with a letter or an underscore, but not with a number. For instance, you can call a variable message_1 but not 1_message.\n\n> Spaces are not allowed in variable names, but underscores can be used to separate words in variable names. For example, greeting_message works but greeting message will cause errors.\n\n> Avoid using Python keywords and function names as variable names.For example, do not use the word print as a variable name; Python has reserved it for a particular programmatic purpose.\n\n> Variable names should be short but descriptive. For example, name is better than n, student_name is better than s_n, and name_length is better than length_of_persons_name.\n\n> Be careful when using the lowercase letter l and the uppercase letter O because they could be confused with the numbers 1 and 0.\n",
      "metadata": {}
    },
    {
      "cell_type": "markdown",
      "source": "## Traceback\nIt is a record of where the interpreter ran into trouble when trying to execute the code.\n",
      "metadata": {}
    },
    {
      "cell_type": "code",
      "source": "message=\"Hello Wordl\"\nprint(messge)",
      "metadata": {
        "trusted": true
      },
      "outputs": [
        {
          "ename": "<class 'NameError'>",
          "evalue": "name 'messge' is not defined",
          "traceback": [
            "\u001b[0;31m---------------------------------------------------------------------------\u001b[0m",
            "\u001b[0;31mNameError\u001b[0m                                 Traceback (most recent call last)",
            "Cell \u001b[0;32mIn[2], line 2\u001b[0m\n\u001b[1;32m      1\u001b[0m message\u001b[38;5;241m=\u001b[39m\u001b[38;5;124m\"\u001b[39m\u001b[38;5;124mHello Wordl\u001b[39m\u001b[38;5;124m\"\u001b[39m\n\u001b[0;32m----> 2\u001b[0m \u001b[38;5;28mprint\u001b[39m(\u001b[43mmessge\u001b[49m)\n",
            "\u001b[0;31mNameError\u001b[0m: name 'messge' is not defined"
          ],
          "output_type": "error"
        }
      ],
      "execution_count": 2
    },
    {
      "cell_type": "markdown",
      "source": "## **Strings**\nA string is a series of characters. Anything inside quotes is considered as a string in Python.",
      "metadata": {}
    },
    {
      "cell_type": "code",
      "source": "print(\"This is a string.\")\nprint('This is a string.')\n\nprint('I told my friend \"Python is the best programming language\"')\nprint (\"I remember, I have no 'friend'\")\nprint(\"One of Python's strength is its community\")",
      "metadata": {
        "trusted": true
      },
      "outputs": [
        {
          "name": "stdout",
          "text": "This is a string.\nThis is a string.\nI told my friend \"Python is the best programming language\"\nI remember, I have no 'friend'\nOne of Python's strength is its community\n",
          "output_type": "stream"
        }
      ],
      "execution_count": 4
    },
    {
      "cell_type": "markdown",
      "source": "#### Changing Case in a String with Methods\nA method() is an action that Python can perform on a piece of data.",
      "metadata": {}
    },
    {
      "cell_type": "code",
      "source": "name=\"satish karki\"\nprint(name.title())\nprint(name.upper())\nprint(name.lower())",
      "metadata": {
        "trusted": true
      },
      "outputs": [
        {
          "name": "stdout",
          "text": "Satish Karki\nSATISH KARKI\nsatish karki\n",
          "output_type": "stream"
        }
      ],
      "execution_count": 6
    },
    {
      "cell_type": "markdown",
      "source": "#### Using Variables in Strings\n**f-strings** where f stands for  format because Python formats the string by replacing the name of any variable in braces with its value",
      "metadata": {}
    },
    {
      "cell_type": "code",
      "source": "first_name=\"satish\"\nlast_name=\"karki\"\nfull_name= f\"{first_name} {last_name}\"\nprint (full_name)\nprint (f\"Hello, {full_name.title()}!\")",
      "metadata": {
        "trusted": true
      },
      "outputs": [
        {
          "name": "stdout",
          "text": "satish karki\nHello, Satish Karki!\n",
          "output_type": "stream"
        }
      ],
      "execution_count": 10
    },
    {
      "cell_type": "markdown",
      "source": "#### Adding Whitespace to Strings with Tabs or Newlines\nIn programming, whitespace refers to any nonprinting characters, such as spaces, tabs, and end-of-line symbols.\n> To add a tab use \\t\n\n> To add a newline use \\n\n\n> To combine tabs and newline \\n\\t",
      "metadata": {}
    },
    {
      "cell_type": "code",
      "source": "print(\"Language:python\")\nprint(\"Language:\\tpython\")",
      "metadata": {
        "trusted": true
      },
      "outputs": [
        {
          "name": "stdout",
          "text": "Language:python\nLanguage:\tpython\n",
          "output_type": "stream"
        }
      ],
      "execution_count": 13
    },
    {
      "cell_type": "code",
      "source": "print(\"Language:\\nPython,\\nJava,\\nC++\")",
      "metadata": {
        "trusted": true
      },
      "outputs": [
        {
          "name": "stdout",
          "text": "Language:\nPython,\nJava,\nC++\n",
          "output_type": "stream"
        }
      ],
      "execution_count": 15
    },
    {
      "cell_type": "code",
      "source": "print(\"Language:\\n\\tPython,\\n\\tJava,\\n\\tC++\")",
      "metadata": {
        "trusted": true
      },
      "outputs": [
        {
          "name": "stdout",
          "text": "Language:\n\tPython,\n\tJava,\n\tC++\n",
          "output_type": "stream"
        }
      ],
      "execution_count": 18
    },
    {
      "cell_type": "markdown",
      "source": "#### Stripping Whitespace\n> To strip whitespace on the right side rstrip()\n\n> To strip whitespace on the left side lstrip()\n\n> To strip whitespace on both side strip()\n\n> To remove prefixes, use removeprefix('https://')\n",
      "metadata": {}
    },
    {
      "cell_type": "code",
      "source": "language=\" python \"\nprint(language.rstrip())\nprint(language.lstrip())\nprint(language.strip())",
      "metadata": {
        "trusted": true
      },
      "outputs": [
        {
          "name": "stdout",
          "text": " python\npython \npython\n",
          "output_type": "stream"
        }
      ],
      "execution_count": 22
    },
    {
      "cell_type": "code",
      "source": "website=\"https://satishkarki.com\"\nprint(website.removeprefix(\"https://\"))\nprint(website.removesuffix(\".com\"))",
      "metadata": {
        "trusted": true
      },
      "outputs": [
        {
          "name": "stdout",
          "text": "satishkarki.com\nhttps://satishkarki\n",
          "output_type": "stream"
        }
      ],
      "execution_count": 27
    },
    {
      "cell_type": "code",
      "source": "",
      "metadata": {
        "trusted": true
      },
      "outputs": [],
      "execution_count": null
    }
  ]
}