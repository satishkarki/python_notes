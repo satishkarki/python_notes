{
 "cells": [
  {
   "cell_type": "markdown",
   "id": "a3c771e4-90a2-488c-ab11-3726ff2a4f77",
   "metadata": {},
   "source": [
    "## Functions\n",
    " Block of code designed to do one specific job\n",
    "\n",
    " > \"\"\"docstring\"\"\" This describes what the function does. It lets you write multiple lines."
   ]
  },
  {
   "cell_type": "code",
   "execution_count": 1,
   "id": "150c7f51-4f99-4787-9ce2-69fb87d37425",
   "metadata": {},
   "outputs": [
    {
     "name": "stdout",
     "output_type": "stream",
     "text": [
      "Hello World! Welcome to the Grand Prix here in Las Vegas\n"
     ]
    }
   ],
   "source": [
    "def F1_stream():\n",
    "    \"\"\"Welcome to the F1 stream\"\"\"\n",
    "    print(\"Hello World! Welcome to the Grand Prix here in Las Vegas\")\n",
    "\n",
    "F1_stream()"
   ]
  },
  {
   "cell_type": "markdown",
   "id": "b9780d0f-97fd-4f03-89ad-caadbc1a6065",
   "metadata": {},
   "source": [
    "#### Passing information to a Function\n",
    "\n",
    "In the example below, driver is a parameter, a piece of information the function needs to do its job.\n",
    "While 'max' is argument, a piece of information that's passed from a function call to a function."
   ]
  },
  {
   "cell_type": "code",
   "execution_count": 5,
   "id": "a753aa58-cd69-4c4b-a3bf-d911e89a9039",
   "metadata": {},
   "outputs": [
    {
     "name": "stdout",
     "output_type": "stream",
     "text": [
      "Welcome to the Race Max!\n"
     ]
    }
   ],
   "source": [
    "def F1_stream(driver):\n",
    "    \"\"\"Welcome to the F1 stream\"\"\"\n",
    "    print(f\"Welcome to the Race {driver.title()}!\")\n",
    "\n",
    "F1_stream('max')"
   ]
  },
  {
   "cell_type": "markdown",
   "id": "0b3db6de-e773-40b0-a235-9b4693524eb1",
   "metadata": {},
   "source": [
    " ## Passing Arguments\n",
    "> Positional Arguments\n",
    "\n",
    "> Keyword Arguments"
   ]
  },
  {
   "cell_type": "markdown",
   "id": "06eea86d-a258-40f0-a818-165a2aef72b4",
   "metadata": {},
   "source": [
    "#### Positional \n",
    "> Order matters in positional arguments"
   ]
  },
  {
   "cell_type": "code",
   "execution_count": 9,
   "id": "554e3d94-beb9-4126-9084-24b43d2f2c0c",
   "metadata": {},
   "outputs": [
    {
     "name": "stdout",
     "output_type": "stream",
     "text": [
      "The driver for REDBULL is Max Verstappen\n",
      "The driver for MACLAREN is Lando Norris\n"
     ]
    }
   ],
   "source": [
    "def F1_Team(team, driver):\n",
    "    \"\"\"Displays the driver information about F1 team\"\"\"\n",
    "    print(f\"The driver for {team.upper()} is {driver.title()}\")\n",
    "\n",
    "F1_Team('redbull','max verstappen')\n",
    "\n",
    "#Multiple Function Call\n",
    "F1_Team('maclaren','lando norris')"
   ]
  },
  {
   "cell_type": "markdown",
   "id": "0e9a4e51-c500-4e3a-86bf-59956e07ceb0",
   "metadata": {},
   "source": [
    "#### Keyword Arguments"
   ]
  },
  {
   "cell_type": "code",
   "execution_count": 10,
   "id": "0385e984-6131-41b5-960d-0f7836f389dd",
   "metadata": {},
   "outputs": [
    {
     "name": "stdout",
     "output_type": "stream",
     "text": [
      "The driver for REDBULL is Max Verstappen\n",
      "The driver for MACLAREN is Lando Norris\n"
     ]
    }
   ],
   "source": [
    "def F1_Team(team, driver):\n",
    "    \"\"\"Displays the driver information about F1 team\"\"\"\n",
    "    print(f\"The driver for {team.upper()} is {driver.title()}\")\n",
    "\n",
    "F1_Team(team='redbull',driver='max verstappen')\n",
    "F1_Team(driver='lando norris', team='maclaren')"
   ]
  },
  {
   "cell_type": "markdown",
   "id": "6afe14ca-6732-44f7-9c66-9afc12063afd",
   "metadata": {},
   "source": [
    "#### Default Values\n",
    "\n",
    "When you use default values, any parameter with a default value needs to be listed after all the parameters that don’t have default values. This allows Python to continue interpreting positional arguments correctly.\n",
    "> Function call with passing second parameter will change the default value"
   ]
  },
  {
   "cell_type": "code",
   "execution_count": 15,
   "id": "f9dc654e-9f35-4a4c-b7fb-bdef9e3e08a1",
   "metadata": {},
   "outputs": [
    {
     "name": "stdout",
     "output_type": "stream",
     "text": [
      "Every team, for example REDBULL wants Max\n",
      "Every team, for example MACLAREN wants Max\n",
      "Every team, for example WILLIAM wants Carlos\n"
     ]
    }
   ],
   "source": [
    "def F1_Team(team, driver='Max'):\n",
    "    \"\"\"Displays the driver information about F1 team\"\"\"\n",
    "    print(f\"Every team, for example {team.upper()} wants {driver.title()}\")\n",
    "\n",
    "F1_Team(team='redbull')\n",
    "F1_Team('maclaren')\n",
    "\n",
    "#function call to change the default value\n",
    "F1_Team('William','Carlos')"
   ]
  },
  {
   "cell_type": "markdown",
   "id": "70ee625e-0d70-48de-b1b7-d608810fbab6",
   "metadata": {},
   "source": [
    "#### Avoiding Argument Errors"
   ]
  },
  {
   "cell_type": "code",
   "execution_count": 16,
   "id": "6559215f-d028-4e4e-be39-3a2950abe8d4",
   "metadata": {},
   "outputs": [
    {
     "ename": "TypeError",
     "evalue": "F1_stream() missing 1 required positional argument: 'driver'",
     "output_type": "error",
     "traceback": [
      "\u001b[0;31m---------------------------------------------------------------------------\u001b[0m",
      "\u001b[0;31mTypeError\u001b[0m                                 Traceback (most recent call last)",
      "Cell \u001b[0;32mIn[16], line 5\u001b[0m\n\u001b[1;32m      2\u001b[0m \u001b[38;5;250m    \u001b[39m\u001b[38;5;124;03m\"\"\"Welcome to the F1 stream\"\"\"\u001b[39;00m\n\u001b[1;32m      3\u001b[0m     \u001b[38;5;28mprint\u001b[39m(\u001b[38;5;124mf\u001b[39m\u001b[38;5;124m\"\u001b[39m\u001b[38;5;124mWelcome to the Race \u001b[39m\u001b[38;5;132;01m{\u001b[39;00mdriver\u001b[38;5;241m.\u001b[39mtitle()\u001b[38;5;132;01m}\u001b[39;00m\u001b[38;5;124m!\u001b[39m\u001b[38;5;124m\"\u001b[39m)\n\u001b[0;32m----> 5\u001b[0m \u001b[43mF1_stream\u001b[49m\u001b[43m(\u001b[49m\u001b[43m)\u001b[49m\n",
      "\u001b[0;31mTypeError\u001b[0m: F1_stream() missing 1 required positional argument: 'driver'"
     ]
    }
   ],
   "source": [
    "def F1_stream(driver):\n",
    "    \"\"\"Welcome to the F1 stream\"\"\"\n",
    "    print(f\"Welcome to the Race {driver.title()}!\")\n",
    "\n",
    "F1_stream()"
   ]
  },
  {
   "cell_type": "markdown",
   "id": "b4532e56-8ded-465d-aa5f-c81d9c804148",
   "metadata": {},
   "source": [
    "## Return Values\n",
    "The value the function returns is called a return value. The return statement takes a value from inside a function and sends it back to the line that called the function. "
   ]
  },
  {
   "cell_type": "code",
   "execution_count": 22,
   "id": "47d65dc4-2f96-451b-ade6-8db72f8a8855",
   "metadata": {},
   "outputs": [
    {
     "name": "stdout",
     "output_type": "stream",
     "text": [
      "Please Welcome World Champion MAX VERSTAPPEN\n",
      "\n",
      "Also lets welcome seven-time world champion LEWIS HAMILTON\n"
     ]
    }
   ],
   "source": [
    "def F1_driver(f_name, l_name):\n",
    "    \"\"\"This function returns the full name is a title format\"\"\"\n",
    "    full_name=f\"{f_name} {l_name}\"\n",
    "    return full_name.upper()\n",
    "\n",
    "#one Liner\n",
    "print(f\"Please Welcome World Champion {F1_driver('max','verstappen')}\")\n",
    "\n",
    "#More elaborated form\n",
    "seven_timechamp=F1_driver('lewis','hamilton')\n",
    "print(f\"\\nAlso lets welcome seven-time world champion {seven_timechamp}\")"
   ]
  },
  {
   "cell_type": "markdown",
   "id": "721065d0-c63d-4fc3-942f-164900d55033",
   "metadata": {},
   "source": [
    "#### Making an argument optional"
   ]
  },
  {
   "cell_type": "code",
   "execution_count": 24,
   "id": "4a070381-69be-4289-81b6-c40ad610eea4",
   "metadata": {},
   "outputs": [
    {
     "name": "stdout",
     "output_type": "stream",
     "text": [
      "Please Welcome World Champion MAX VERSTAPPEN\n",
      "\n",
      "Also lets welcome seven-time world champion LEWIS JUNG HAMILTON\n"
     ]
    }
   ],
   "source": [
    "def F1_driver(f_name, l_name, m_name=''):\n",
    "    \"\"\"This function returns the full name is a title format\"\"\"\n",
    "    if m_name: #Python interprets non-empty strings as True\n",
    "        full_name=f\"{f_name} {m_name} {l_name}\"\n",
    "    else:\n",
    "        full_name=f\"{f_name} {l_name}\"\n",
    "    return full_name.upper()\n",
    "\n",
    "#one Liner\n",
    "print(f\"Please Welcome World Champion {F1_driver('max','verstappen')}\")\n",
    "\n",
    "#More elaborated form\n",
    "seven_timechamp=F1_driver('lewis','hamilton','jung')\n",
    "print(f\"\\nAlso lets welcome seven-time world champion {seven_timechamp}\")"
   ]
  },
  {
   "cell_type": "markdown",
   "id": "efee7cdf-794a-49f2-b307-0a79ecf80778",
   "metadata": {},
   "source": [
    "#### Returning a Dictionary"
   ]
  },
  {
   "cell_type": "code",
   "execution_count": 25,
   "id": "5e8aea50-e94c-4259-9e95-da8be30cbcd8",
   "metadata": {},
   "outputs": [
    {
     "name": "stdout",
     "output_type": "stream",
     "text": [
      "{'first_name': 'max', 'last_name': 'verstappen'}\n"
     ]
    }
   ],
   "source": [
    "def F1_driver(f_name, l_name):\n",
    "    \"\"\"This function returns a dictionary\"\"\"\n",
    "    full_name={'first_name':f_name, 'last_name':l_name}\n",
    "    return full_name\n",
    "\n",
    "#one Liner\n",
    "driver_dic=F1_driver('max','verstappen')\n",
    "print(driver_dic)\n"
   ]
  },
  {
   "cell_type": "code",
   "execution_count": 26,
   "id": "15cd9359-2e7e-4f5e-8301-9385c1c3ff08",
   "metadata": {},
   "outputs": [
    {
     "name": "stdout",
     "output_type": "stream",
     "text": [
      "{'first_name': 'max', 'last_name': 'verstappen', 'World_titles': 4}\n"
     ]
    }
   ],
   "source": [
    "def F1_driver(f_name, l_name, titles=None):\n",
    "    \"\"\"This function returns a dictionary\"\"\"\n",
    "    driver_profile={'first_name':f_name, 'last_name':l_name}\n",
    "    if titles:\n",
    "        driver_profile['World_titles']=titles\n",
    "    return driver_profile\n",
    "\n",
    "#one Liner\n",
    "driver_dic=F1_driver('max','verstappen',4)\n",
    "print(driver_dic)"
   ]
  },
  {
   "cell_type": "markdown",
   "id": "9bf435b4-a348-43c9-a8fb-4aa7a91666c1",
   "metadata": {},
   "source": [
    "#### Using a Function with a while loop"
   ]
  },
  {
   "cell_type": "code",
   "execution_count": 33,
   "id": "183ee27b-550b-42c5-aeb2-e20428be2ec4",
   "metadata": {},
   "outputs": [
    {
     "name": "stdout",
     "output_type": "stream",
     "text": [
      "Please tell me your name\n",
      "Please enter q at anytime to quit\n"
     ]
    },
    {
     "name": "stdin",
     "output_type": "stream",
     "text": [
      "Please enter your first name: max\n",
      "Please enter your last name: verstappen\n"
     ]
    },
    {
     "name": "stdout",
     "output_type": "stream",
     "text": [
      "\n",
      " Hello MAX VERSTAPPEN, you are invited to F1 race\n",
      "\n",
      "Please tell me your name\n",
      "Please enter q at anytime to quit\n"
     ]
    },
    {
     "name": "stdin",
     "output_type": "stream",
     "text": [
      "Please enter your first name: q\n"
     ]
    }
   ],
   "source": [
    "def get_driver_name(f_name,l_name):\n",
    "    '''This function returns the full name in uppercase'''\n",
    "    full_name=f'{f_name} {l_name}'\n",
    "    return full_name.upper()\n",
    "\n",
    "while True:\n",
    "    print('Please tell me your name')\n",
    "    print('Please enter q at anytime to quit')\n",
    "    first_name=input(\"Please enter your first name:\")\n",
    "    if first_name=='q':\n",
    "        break\n",
    "    last_name=input(\"Please enter your last name:\")\n",
    "    if last_name=='q':\n",
    "        break\n",
    "    formatted_name=get_driver_name(first_name,last_name)\n",
    "    print(f\"\\n Hello {formatted_name}, you are invited to F1 race\\n\")"
   ]
  },
  {
   "cell_type": "markdown",
   "id": "c747272f-2c09-4d55-902a-b8dcfcc281d7",
   "metadata": {},
   "source": [
    "## Passing a List"
   ]
  },
  {
   "cell_type": "code",
   "execution_count": 5,
   "id": "66afdc16-9859-4371-b2b1-4354fafae66f",
   "metadata": {},
   "outputs": [
    {
     "name": "stdout",
     "output_type": "stream",
     "text": [
      "Hello MAX, good luck for today's race!\n",
      "Hello CHECO, good luck for today's race!\n",
      "Hello LANCE, good luck for today's race!\n"
     ]
    }
   ],
   "source": [
    "def greet_driver(drivers):\n",
    "    '''This function will greet the driver from alist'''\n",
    "    for driver in drivers:\n",
    "        greeting=f\"Hello {driver.upper()}, good luck for today's race!\"\n",
    "        print(greeting)\n",
    "\n",
    "driver_list=['max','checo','lance']\n",
    "greet_driver(driver_list)"
   ]
  },
  {
   "cell_type": "markdown",
   "id": "0aa9139b-3c77-40fc-a2a1-2270a28c561c",
   "metadata": {},
   "source": [
    "#### Modifying a List in a Function"
   ]
  },
  {
   "cell_type": "code",
   "execution_count": 7,
   "id": "7d47ec9f-73d1-4a92-bb76-4bbbae13c908",
   "metadata": {},
   "outputs": [
    {
     "ename": "NameError",
     "evalue": "name 'race' is not defined",
     "output_type": "error",
     "traceback": [
      "\u001b[1;31m---------------------------------------------------------------------------\u001b[0m",
      "\u001b[1;31mNameError\u001b[0m                                 Traceback (most recent call last)",
      "Cell \u001b[1;32mIn[7], line 15\u001b[0m\n\u001b[0;32m     12\u001b[0m         \u001b[38;5;28mprint\u001b[39m(\u001b[38;5;124mf\u001b[39m\u001b[38;5;124m\"\u001b[39m\u001b[38;5;132;01m{\u001b[39;00mrace_winner\u001b[38;5;241m.\u001b[39mupper()\u001b[38;5;132;01m}\u001b[39;00m\u001b[38;5;124m is a Grand Prix winner.\u001b[39m\u001b[38;5;124m\"\u001b[39m)\n\u001b[0;32m     14\u001b[0m grandprix_converter(F1_drivers, F1_race_winners)\n\u001b[1;32m---> 15\u001b[0m \u001b[43mgrandprix_winner\u001b[49m\u001b[43m(\u001b[49m\u001b[43mF1_race_winners\u001b[49m\u001b[43m)\u001b[49m\n",
      "Cell \u001b[1;32mIn[7], line 11\u001b[0m, in \u001b[0;36mgrandprix_winner\u001b[1;34m(race_winners)\u001b[0m\n\u001b[0;32m      9\u001b[0m \u001b[38;5;28;01mdef\u001b[39;00m \u001b[38;5;21mgrandprix_winner\u001b[39m(race_winners):\n\u001b[0;32m     10\u001b[0m \u001b[38;5;250m    \u001b[39m\u001b[38;5;124;03m'''This function will print the Grand Prix winners'''\u001b[39;00m\n\u001b[1;32m---> 11\u001b[0m     \u001b[38;5;28;01mfor\u001b[39;00m race_winner \u001b[38;5;129;01min\u001b[39;00m \u001b[43mrace\u001b[49m\u001b[38;5;241m-\u001b[39mwinners:\n\u001b[0;32m     12\u001b[0m         \u001b[38;5;28mprint\u001b[39m(\u001b[38;5;124mf\u001b[39m\u001b[38;5;124m\"\u001b[39m\u001b[38;5;132;01m{\u001b[39;00mrace_winner\u001b[38;5;241m.\u001b[39mupper()\u001b[38;5;132;01m}\u001b[39;00m\u001b[38;5;124m is a Grand Prix winner.\u001b[39m\u001b[38;5;124m\"\u001b[39m)\n",
      "\u001b[1;31mNameError\u001b[0m: name 'race' is not defined"
     ]
    }
   ],
   "source": [
    "F1_drivers=['max', 'lando', 'oscar', 'hamilton']\n",
    "F1_race_winners=[]\n",
    "\n",
    "def grandprix_converter(drivers, race_winners):\n",
    "    '''This function will convert the F1 drivers into Winners'''\n",
    "    while F1_drivers:\n",
    "        race_winners.append(F1_drivers.pop())\n",
    "\n",
    "def grandprix_winner(race_winners):\n",
    "    '''This function will print the Grand Prix winners'''\n",
    "    for race_winner in race-winners:\n",
    "        print(f\"{race_winner.upper()} is a Grand Prix winner.\")\n",
    "\n",
    "grandprix_converter(F1_drivers, F1_race_winners)\n",
    "grandprix_winner(F1_race_winners)\n",
    "    "
   ]
  },
  {
   "cell_type": "code",
   "execution_count": null,
   "id": "f3c3a556-456c-4b37-914b-8bcceeb180c5",
   "metadata": {},
   "outputs": [],
   "source": []
  }
 ],
 "metadata": {
  "kernelspec": {
   "display_name": "Python 3 (ipykernel)",
   "language": "python",
   "name": "python3"
  },
  "language_info": {
   "codemirror_mode": {
    "name": "ipython",
    "version": 3
   },
   "file_extension": ".py",
   "mimetype": "text/x-python",
   "name": "python",
   "nbconvert_exporter": "python",
   "pygments_lexer": "ipython3",
   "version": "3.13.0"
  }
 },
 "nbformat": 4,
 "nbformat_minor": 5
}
