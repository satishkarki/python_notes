{
 "cells": [
  {
   "cell_type": "markdown",
   "id": "e4b0aaae-4e73-4ae2-9e6b-6d634d23f16e",
   "metadata": {},
   "source": [
    "## Introducing Lists\n",
    "\n",
    "A list is a collection of items in a particular order.\n",
    "In Python, square brackets ([]) indicate a list, and individual elements in the list are separated by commas.\n",
    "> Index Position starts at 0, not 1"
   ]
  },
  {
   "cell_type": "code",
   "execution_count": 4,
   "id": "49198fc8-5c33-4675-8626-7ddf2a304358",
   "metadata": {},
   "outputs": [
    {
     "name": "stdout",
     "output_type": "stream",
     "text": [
      "['sysadmin', 'cybersecurity', 'Network Engineer', 'Reliabilty Engineer']\n",
      "sysadmin\n"
     ]
    }
   ],
   "source": [
    "IT_Jobs=['sysadmin','cybersecurity','Network Engineer','Reliabilty Engineer']\n",
    "print(IT_Jobs)\n",
    "print(IT_Jobs[0])"
   ]
  },
  {
   "cell_type": "code",
   "execution_count": 6,
   "id": "3f049869-9d0c-47b5-be12-657f5631c48c",
   "metadata": {},
   "outputs": [
    {
     "name": "stdout",
     "output_type": "stream",
     "text": [
      "SYSADMIN\n"
     ]
    }
   ],
   "source": [
    "print(IT_Jobs[0].upper())"
   ]
  },
  {
   "cell_type": "code",
   "execution_count": 7,
   "id": "8cf49927-0f2d-41d6-9a8e-2a1b9155a4e5",
   "metadata": {},
   "outputs": [
    {
     "name": "stdout",
     "output_type": "stream",
     "text": [
      "Reliabilty Engineer\n"
     ]
    }
   ],
   "source": [
    "print(IT_Jobs[-1].title())"
   ]
  },
  {
   "cell_type": "code",
   "execution_count": 8,
   "id": "0a7cfb86-8c19-460f-9064-17ccc8575baa",
   "metadata": {},
   "outputs": [
    {
     "name": "stdout",
     "output_type": "stream",
     "text": [
      "I would love to get a job in cybersecurity\n"
     ]
    }
   ],
   "source": [
    "# using individual value from the list\n",
    "print(f\"I would love to get a job in {IT_Jobs[1].lower()}\")"
   ]
  },
  {
   "cell_type": "markdown",
   "id": "1e4bab4f-2bcf-4eb4-9e2b-0c20bf292066",
   "metadata": {},
   "source": [
    "#### Modifying, Adding, and Removing Elements"
   ]
  },
  {
   "cell_type": "code",
   "execution_count": null,
   "id": "3b685f68-6cd9-40c5-ad7c-c8583f6ff72c",
   "metadata": {},
   "outputs": [],
   "source": []
  }
 ],
 "metadata": {
  "kernelspec": {
   "display_name": "Python 3 (ipykernel)",
   "language": "python",
   "name": "python3"
  },
  "language_info": {
   "codemirror_mode": {
    "name": "ipython",
    "version": 3
   },
   "file_extension": ".py",
   "mimetype": "text/x-python",
   "name": "python",
   "nbconvert_exporter": "python",
   "pygments_lexer": "ipython3",
   "version": "3.12.7"
  }
 },
 "nbformat": 4,
 "nbformat_minor": 5
}
