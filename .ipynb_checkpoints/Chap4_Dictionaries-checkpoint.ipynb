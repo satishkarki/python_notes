{
 "cells": [
  {
   "cell_type": "markdown",
   "id": "d0fa7e9a-ddc4-4ac7-b0f4-95f45a5efd71",
   "metadata": {},
   "source": [
    "## Dictionaries\n",
    "A dictionary in Python is a collection of key-value pairs. Each key is connected to\n",
    "a value, and you can use a key to access the value associated with that key. A\n",
    "key’s value can be a number, a string, a list, or even another dictionary. In fact,\n",
    "you can use any object that you can create in Python as a value in a dictionary.\n",
    "In Python, a dictionary is wrapped in braces ({}) with a series of key-value\n",
    "pairs inside the braces"
   ]
  },
  {
   "cell_type": "code",
   "execution_count": 2,
   "id": "90d59605-dc9c-4388-80dd-49e63418b82c",
   "metadata": {},
   "outputs": [
    {
     "name": "stdout",
     "output_type": "stream",
     "text": [
      "Red and Black\n"
     ]
    }
   ],
   "source": [
    "RedBull={'color':'Red and Black', 'position':1, 'Drivers':'Max and Checo', 'Team_Principal':'Christian Horner'}\n",
    "print(RedBull['color'])"
   ]
  },
  {
   "cell_type": "markdown",
   "id": "f76b9852-36d1-4db9-a1f9-ddb9b7cf8f25",
   "metadata": {},
   "source": [
    "#### Adding New Key-Value pairs"
   ]
  },
  {
   "cell_type": "code",
   "execution_count": 13,
   "id": "84a6c2b4-6871-47c0-b7df-c142b567ca62",
   "metadata": {},
   "outputs": [
    {
     "name": "stdout",
     "output_type": "stream",
     "text": [
      "{'color': 'Red and Black', 'position': 1, 'Drivers': 'Max and Checo', 'Team_Principal': 'Christian Horner'}\n",
      "\n",
      "\n",
      "{'color': 'Red and Black', 'position': 1, 'Drivers': 'Max and Checo', 'Team_Principal': 'Christian Horner', '1st_choice-driver': 'Max Verstappen', 'Recent_World_Championship': 3}\n"
     ]
    }
   ],
   "source": [
    "RedBull={'color':'Red and Black', 'position':1, 'Drivers':'Max and Checo', 'Team_Principal':'Christian Horner'}\n",
    "print(RedBull)\n",
    "print(\"\\n\")\n",
    "RedBull['1st_choice-driver']='Max Verstappen'\n",
    "RedBull['Recent_World_Championship']=3\n",
    "print(RedBull)"
   ]
  },
  {
   "cell_type": "markdown",
   "id": "e13ebf00-432d-422a-b597-7e8b3208cdc0",
   "metadata": {},
   "source": [
    "#### Starting with an Empty Dictionary"
   ]
  },
  {
   "cell_type": "code",
   "execution_count": 14,
   "id": "49660c83-54a6-45cf-88e4-e2e759edc0a9",
   "metadata": {},
   "outputs": [
    {
     "name": "stdout",
     "output_type": "stream",
     "text": [
      "{'Rank': 2, 'Drivers': 'Lando and oscar'}\n"
     ]
    }
   ],
   "source": [
    "MacLaren={}\n",
    "MacLaren['Rank']=2\n",
    "MacLaren['Drivers']='Lando and oscar'\n",
    "print(MacLaren)"
   ]
  },
  {
   "cell_type": "markdown",
   "id": "22a0a4c8-54a6-41c6-868c-b1b7ffce2e0a",
   "metadata": {},
   "source": [
    "#### Modifying Values in a Dictionary"
   ]
  },
  {
   "cell_type": "code",
   "execution_count": 19,
   "id": "cf00d9ae-53a1-486c-b747-f89316dda50e",
   "metadata": {},
   "outputs": [
    {
     "name": "stdout",
     "output_type": "stream",
     "text": [
      "The drivers for 2024 Ferrari team is Carlos and Chalres\n",
      "The drivers for 2025 Ferrari team is Hamilton and Chalres\n"
     ]
    }
   ],
   "source": [
    "Ferrari={'Drivers':'Carlos and Chalres', 'Color':'Red', 'position':3}\n",
    "print(f\"The drivers for 2024 Ferrari team is {Ferrari['Drivers']}\")\n",
    "\n",
    "Ferrari['Drivers']='Hamilton and Chalres'\n",
    "print(f\"The drivers for 2025 Ferrari team is {Ferrari['Drivers']}\")"
   ]
  },
  {
   "cell_type": "markdown",
   "id": "3ea6baa7-9233-4311-8d80-ebd1129367bd",
   "metadata": {},
   "source": [
    "#### Removing Key-Value pair"
   ]
  },
  {
   "cell_type": "code",
   "execution_count": 24,
   "id": "5c5a652b-57bf-4311-871e-3b1284e62d73",
   "metadata": {},
   "outputs": [
    {
     "name": "stdout",
     "output_type": "stream",
     "text": [
      "{'Drivers': 'Carlos and Chalres', 'Color': 'Red', 'position': 3}\n",
      "\n",
      "\n",
      "{'Drivers': 'Carlos and Chalres', 'Color': 'Red'}\n"
     ]
    }
   ],
   "source": [
    "Ferrari={'Drivers':'Carlos and Chalres', 'Color':'Red', 'position':3}\n",
    "print(Ferrari)\n",
    "print('\\n')\n",
    "del Ferrari['position']\n",
    "print(Ferrari)"
   ]
  },
  {
   "cell_type": "markdown",
   "id": "db3b762b-7268-4ace-ac28-b072f2774733",
   "metadata": {},
   "source": [
    "#### Using get() to access values"
   ]
  },
  {
   "cell_type": "code",
   "execution_count": 27,
   "id": "d3859e7d-e5f8-4d31-9d6f-f5b98149353c",
   "metadata": {},
   "outputs": [
    {
     "name": "stdout",
     "output_type": "stream",
     "text": [
      "Red and Black\n",
      "\n",
      "\n",
      "There is no any record of rank\n"
     ]
    }
   ],
   "source": [
    "RedBull={'color':'Red and Black', 'position':1, 'Drivers':'Max and Checo', 'Team_Principal':'Christian Horner'}\n",
    "print(RedBull.get('color', 'There is no any record of color'))\n",
    "print('\\n')\n",
    "print(RedBull.get('rank', 'There is no any record of rank'))"
   ]
  },
  {
   "cell_type": "markdown",
   "id": "57f79073-1cb2-44fe-8bd0-a717acdc67f6",
   "metadata": {},
   "source": [
    "If you leave out the second argument in the call to get() and the key doesn’t exist,\n",
    "Python will return the value None. The special value None means “no value exists.”\n",
    "This is not an error: it’s a special value meant to indicate the absence of a value."
   ]
  },
  {
   "cell_type": "code",
   "execution_count": 28,
   "id": "471fcfdf-03c8-4046-9f41-4812a4281773",
   "metadata": {},
   "outputs": [
    {
     "name": "stdout",
     "output_type": "stream",
     "text": [
      "None\n"
     ]
    }
   ],
   "source": [
    "RedBull={'color':'Red and Black', 'position':1, 'Drivers':'Max and Checo', 'Team_Principal':'Christian Horner'}\n",
    "print(RedBull.get('rank'))"
   ]
  },
  {
   "cell_type": "markdown",
   "id": "30cec98b-28f3-4599-9a15-1347dfd3373f",
   "metadata": {},
   "source": [
    "#### Looping through a Dictionary"
   ]
  },
  {
   "cell_type": "code",
   "execution_count": 34,
   "id": "dc7fbef7-9f1f-4a7c-a450-3b3d436e373f",
   "metadata": {},
   "outputs": [
    {
     "name": "stdout",
     "output_type": "stream",
     "text": [
      "Key:color\n",
      "Value:Red and Black\n",
      "\n",
      "Key:position\n",
      "Value:1\n",
      "\n",
      "Key:Drivers\n",
      "Value:Max and Checo\n",
      "\n",
      "Key:Team_Principal\n",
      "Value:Christian Horner\n",
      "\n"
     ]
    }
   ],
   "source": [
    "RedBull={'color':'Red and Black', 'position':1, 'Drivers':'Max and Checo', 'Team_Principal':'Christian Horner'}\n",
    "for key, value in RedBull.items():\n",
    "    print(f'Key:{key}')\n",
    "    print(f'Value:{value}\\n')"
   ]
  },
  {
   "cell_type": "markdown",
   "id": "c87ea785-05e8-4188-87bd-c32a9d76cce6",
   "metadata": {},
   "source": [
    "#### Looping through all the keys in a dictionary\n",
    "The keys() method is useful when you don’t need to work with all of the values\n",
    "in a dictionary."
   ]
  },
  {
   "cell_type": "code",
   "execution_count": 41,
   "id": "be4b8133-de2f-4fb2-a6ff-c5008cd7f14b",
   "metadata": {},
   "outputs": [
    {
     "name": "stdout",
     "output_type": "stream",
     "text": [
      "COLOR\n",
      "POSITION\n",
      "DRIVERS\n",
      "TEAM_PRINCIPAL\n",
      "\n",
      "\n",
      "color\n",
      "position\n",
      "drivers\n",
      "team_principal\n"
     ]
    }
   ],
   "source": [
    "RedBull={'color':'Red and Black', 'position':1, 'Drivers':'Max and Checo', 'Team_Principal':'Christian Horner'}\n",
    "for key in RedBull.keys(): #Explicit use of key\n",
    "    print(key.upper())\n",
    "print('\\n')\n",
    "for key in RedBull: #implicit\n",
    "    print(key.lower())"
   ]
  },
  {
   "cell_type": "code",
   "execution_count": null,
   "id": "a7aab3a4-432e-4eff-bbf6-3f161c5a1e8d",
   "metadata": {},
   "outputs": [],
   "source": []
  }
 ],
 "metadata": {
  "kernelspec": {
   "display_name": "Python 3 (ipykernel)",
   "language": "python",
   "name": "python3"
  },
  "language_info": {
   "codemirror_mode": {
    "name": "ipython",
    "version": 3
   },
   "file_extension": ".py",
   "mimetype": "text/x-python",
   "name": "python",
   "nbconvert_exporter": "python",
   "pygments_lexer": "ipython3",
   "version": "3.13.0"
  }
 },
 "nbformat": 4,
 "nbformat_minor": 5
}
