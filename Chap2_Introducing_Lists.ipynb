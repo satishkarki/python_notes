{
 "cells": [
  {
   "cell_type": "markdown",
   "id": "e4b0aaae-4e73-4ae2-9e6b-6d634d23f16e",
   "metadata": {},
   "source": [
    "## Introducing Lists\n",
    "\n",
    "A list is a collection of items in a particular order.\n",
    "In Python, square brackets ([]) indicate a list, and individual elements in the list are separated by commas.\n",
    "> Index Position starts at 0, not 1"
   ]
  },
  {
   "cell_type": "code",
   "execution_count": 4,
   "id": "49198fc8-5c33-4675-8626-7ddf2a304358",
   "metadata": {},
   "outputs": [
    {
     "name": "stdout",
     "output_type": "stream",
     "text": [
      "['sysadmin', 'cybersecurity', 'Network Engineer', 'Reliabilty Engineer']\n",
      "sysadmin\n"
     ]
    }
   ],
   "source": [
    "IT_Jobs=['sysadmin','cybersecurity','Network Engineer','Reliabilty Engineer']\n",
    "print(IT_Jobs)\n",
    "print(IT_Jobs[0])"
   ]
  },
  {
   "cell_type": "code",
   "execution_count": 6,
   "id": "3f049869-9d0c-47b5-be12-657f5631c48c",
   "metadata": {},
   "outputs": [
    {
     "name": "stdout",
     "output_type": "stream",
     "text": [
      "SYSADMIN\n"
     ]
    }
   ],
   "source": [
    "print(IT_Jobs[0].upper())"
   ]
  },
  {
   "cell_type": "code",
   "execution_count": 7,
   "id": "8cf49927-0f2d-41d6-9a8e-2a1b9155a4e5",
   "metadata": {},
   "outputs": [
    {
     "name": "stdout",
     "output_type": "stream",
     "text": [
      "Reliabilty Engineer\n"
     ]
    }
   ],
   "source": [
    "print(IT_Jobs[-1].title())"
   ]
  },
  {
   "cell_type": "code",
   "execution_count": 8,
   "id": "0a7cfb86-8c19-460f-9064-17ccc8575baa",
   "metadata": {},
   "outputs": [
    {
     "name": "stdout",
     "output_type": "stream",
     "text": [
      "I would love to get a job in cybersecurity\n"
     ]
    }
   ],
   "source": [
    "# using individual value from the list\n",
    "print(f\"I would love to get a job in {IT_Jobs[1].lower()}\")"
   ]
  },
  {
   "cell_type": "markdown",
   "id": "1e4bab4f-2bcf-4eb4-9e2b-0c20bf292066",
   "metadata": {},
   "source": [
    "#### Modifying, Adding, and Removing Elements"
   ]
  },
  {
   "cell_type": "code",
   "execution_count": 10,
   "id": "3b685f68-6cd9-40c5-ad7c-c8583f6ff72c",
   "metadata": {},
   "outputs": [
    {
     "name": "stdout",
     "output_type": "stream",
     "text": [
      "['DevOps', 'cybersecurity', 'Network Engineer', 'Reliabilty Engineer']\n",
      "['DevOps', 'cybersecurity', 'Network Engineer', 'Reliabilty Engineer']\n"
     ]
    }
   ],
   "source": [
    "#Modifying\n",
    "print(IT_Jobs)\n",
    "IT_Jobs[0]='DevOps'\n",
    "print (IT_Jobs)"
   ]
  },
  {
   "cell_type": "code",
   "execution_count": 17,
   "id": "457755b6-0d27-4c78-91b7-4d0a29f3ee5d",
   "metadata": {},
   "outputs": [
    {
     "name": "stdout",
     "output_type": "stream",
     "text": [
      "['pharmacist', 'IT', 'Doctor']\n",
      "pharmacist\n",
      "IT\n",
      "Doctor\n"
     ]
    }
   ],
   "source": [
    "#Adding\n",
    "Job_List=[]\n",
    "Job_List.append('pharmacist')\n",
    "Job_List.append('IT')\n",
    "Job_List.append('Doctor')\n",
    "print(Job_List)\n",
    "for job in Job_List:\n",
    "    print(job)"
   ]
  },
  {
   "cell_type": "code",
   "execution_count": 18,
   "id": "92ff1171-f367-4638-ac0f-2a78c83f40f6",
   "metadata": {},
   "outputs": [
    {
     "name": "stdout",
     "output_type": "stream",
     "text": [
      "['pharmacist', 'IT', 'Doctor']\n",
      "['IT', 'Doctor']\n"
     ]
    }
   ],
   "source": [
    "#Removing Elements from a list\n",
    "print(Job_List)\n",
    "del Job_List[0]\n",
    "print(Job_List)\n"
   ]
  },
  {
   "cell_type": "code",
   "execution_count": 20,
   "id": "f5235986-60c4-4b65-94ca-2e3d2c7c50cb",
   "metadata": {},
   "outputs": [
    {
     "name": "stdout",
     "output_type": "stream",
     "text": [
      "['honda', 'audi', 'toyota', 'BMW']\n",
      "['honda', 'audi', 'toyota']\n",
      "BMW\n"
     ]
    }
   ],
   "source": [
    "#pop()\n",
    "cars=['honda','audi','toyota','BMW']\n",
    "print(cars)\n",
    "popped_cars=cars.pop()\n",
    "print(cars)\n",
    "print(popped_cars)"
   ]
  },
  {
   "cell_type": "code",
   "execution_count": 22,
   "id": "06a5db0b-0f70-4d45-8914-2ba9d9ce9227",
   "metadata": {},
   "outputs": [
    {
     "name": "stdout",
     "output_type": "stream",
     "text": [
      "The first car I owned is honda\n",
      "['audi', 'toyota', 'BMW']\n"
     ]
    }
   ],
   "source": [
    "#poping Items from any position in a List\n",
    "cars=['honda','audi','toyota','BMW']\n",
    "print(f\"The first car I owned is {cars.pop(0)}\")\n",
    "print(cars)"
   ]
  },
  {
   "cell_type": "markdown",
   "id": "a979faa1-0877-44ef-a9d6-db6500b34673",
   "metadata": {},
   "source": [
    "**NOTE**\n",
    "The remove() method deletes only the first occurrence of the value you specify. If there’s a possibility the value appears more than once in the list, you’ll need to use a loop to make sure all occurrences of the value are removed."
   ]
  },
  {
   "cell_type": "code",
   "execution_count": 25,
   "id": "30a08030-77f3-41e6-b558-84d7e06ec01a",
   "metadata": {},
   "outputs": [
    {
     "name": "stdout",
     "output_type": "stream",
     "text": [
      "['honda', 'audi', 'toyota', 'BMW']\n",
      "['honda', 'toyota', 'BMW']\n"
     ]
    }
   ],
   "source": [
    "# Removing an item by value\n",
    "cars=['honda','audi','toyota','BMW']\n",
    "print(cars)\n",
    "cars.remove('audi')\n",
    "print(cars)"
   ]
  },
  {
   "cell_type": "markdown",
   "id": "09b6e9d1-23ba-4f3d-a13d-04fea832d96a",
   "metadata": {},
   "source": [
    "#### Organizing a List"
   ]
  },
  {
   "cell_type": "code",
   "execution_count": 27,
   "id": "7608664c-c33b-429b-8e54-71b6d19b85bb",
   "metadata": {},
   "outputs": [
    {
     "name": "stdout",
     "output_type": "stream",
     "text": [
      "['BMW', 'audi', 'honda', 'toyota']\n"
     ]
    }
   ],
   "source": [
    "# Sorting a List Permanently with sort() Method\n",
    "cars=['honda','audi','toyota','BMW']\n",
    "cars.sort()\n",
    "print(cars)"
   ]
  },
  {
   "cell_type": "code",
   "execution_count": 30,
   "id": "08196fa9-2ddc-411b-b066-4faf36713132",
   "metadata": {},
   "outputs": [
    {
     "name": "stdout",
     "output_type": "stream",
     "text": [
      "['toyota', 'honda', 'audi', 'BMW']\n"
     ]
    }
   ],
   "source": [
    "#sorting in reverse\n",
    "cars=['honda','audi','toyota','BMW']\n",
    "cars.sort(reverse=True)\n",
    "print(cars)"
   ]
  },
  {
   "cell_type": "code",
   "execution_count": 34,
   "id": "afaa640a-aefa-41de-b7a2-82a879a1d5b4",
   "metadata": {},
   "outputs": [
    {
     "name": "stdout",
     "output_type": "stream",
     "text": [
      "Here is the original list ['honda', 'audi', 'toyota', 'BMW']\n",
      "Here is the sorted list ['BMW', 'audi', 'honda', 'toyota']\n",
      "Here is the original list again ['honda', 'audi', 'toyota', 'BMW']\n"
     ]
    }
   ],
   "source": [
    "# Sorting a list temporarily with sorted() Function\n",
    "cars=['honda','audi','toyota','BMW']\n",
    "print(f\"Here is the original list {cars}\")\n",
    "print(f\"Here is the sorted list {sorted(cars)}\")\n",
    "print(f\"Here is the original list again {cars}\")"
   ]
  },
  {
   "cell_type": "code",
   "execution_count": 37,
   "id": "74545a7a-4b8d-44b0-8b25-167ee13b6f32",
   "metadata": {},
   "outputs": [
    {
     "name": "stdout",
     "output_type": "stream",
     "text": [
      "['honda', 'audi', 'toyota', 'BMW']\n",
      "['BMW', 'toyota', 'audi', 'honda']\n"
     ]
    }
   ],
   "source": [
    "# Printing a List in Reverse Order\n",
    "cars=['honda','audi','toyota','BMW']\n",
    "print(cars)\n",
    "cars.reverse()\n",
    "# Please note reverse doesn't sort backward alphabetically\n",
    "print(cars)"
   ]
  },
  {
   "cell_type": "code",
   "execution_count": 38,
   "id": "4aa2c9f2-22fb-4dbc-9020-c9a635925c58",
   "metadata": {},
   "outputs": [
    {
     "data": {
      "text/plain": [
       "4"
      ]
     },
     "execution_count": 38,
     "metadata": {},
     "output_type": "execute_result"
    }
   ],
   "source": [
    "# Length of List\n",
    "cars=['honda','audi','toyota','BMW']\n",
    "len(cars)"
   ]
  },
  {
   "cell_type": "markdown",
   "id": "24365d7b-a9ab-485f-bef3-87fd6ab07e9d",
   "metadata": {},
   "source": [
    "## Working with Lists"
   ]
  },
  {
   "cell_type": "code",
   "execution_count": 40,
   "id": "22512ac0-0ab6-4dad-a589-261b1445dd95",
   "metadata": {},
   "outputs": [
    {
     "name": "stdout",
     "output_type": "stream",
     "text": [
      "RedBull\n",
      "Maclaren\n",
      "Mercedes\n",
      "Ferrari\n",
      "Alpine\n"
     ]
    }
   ],
   "source": [
    "F1Teams=['RedBull', 'Maclaren','Mercedes','Ferrari','Alpine']\n",
    "for F1Team in F1Teams:\n",
    "    print(F1Team)"
   ]
  },
  {
   "cell_type": "markdown",
   "id": "1ae83313-63c6-478f-815d-26de9b5044ff",
   "metadata": {},
   "source": [
    "## Making Numerical Lists"
   ]
  },
  {
   "cell_type": "code",
   "execution_count": 41,
   "id": "fcc7f939-49e4-42fe-8e54-7a475a189c76",
   "metadata": {},
   "outputs": [
    {
     "name": "stdout",
     "output_type": "stream",
     "text": [
      "1\n",
      "2\n",
      "3\n",
      "4\n"
     ]
    }
   ],
   "source": [
    "for value in range(1,5):\n",
    "    print(value)"
   ]
  },
  {
   "cell_type": "code",
   "execution_count": 42,
   "id": "af8f98b3-e0cc-4ce5-9f2c-d46555144913",
   "metadata": {},
   "outputs": [
    {
     "name": "stdout",
     "output_type": "stream",
     "text": [
      "0\n",
      "1\n",
      "2\n",
      "3\n",
      "4\n",
      "5\n"
     ]
    }
   ],
   "source": [
    "for value in range(6):\n",
    "    print(value)"
   ]
  },
  {
   "cell_type": "code",
   "execution_count": 45,
   "id": "0375966d-503d-4146-bec5-2b96cf75d4ad",
   "metadata": {},
   "outputs": [
    {
     "name": "stdout",
     "output_type": "stream",
     "text": [
      "[1, 2, 3, 4, 5]\n"
     ]
    }
   ],
   "source": [
    "# using range() to Make a list of Numbers\n",
    "numbers=list(range(1,6))\n",
    "print(numbers)"
   ]
  },
  {
   "cell_type": "code",
   "execution_count": 46,
   "id": "ef289133-3d9c-445b-b6a8-cb95dc545a80",
   "metadata": {},
   "outputs": [
    {
     "name": "stdout",
     "output_type": "stream",
     "text": [
      "[2, 4, 6, 8, 10, 12, 14]\n"
     ]
    }
   ],
   "source": [
    "# Printing even numbers using range\n",
    "even_numbers=list(range(2,15,2))\n",
    "print(even_numbers)\n"
   ]
  },
  {
   "cell_type": "code",
   "execution_count": 53,
   "id": "38ce8072-c10e-4939-accf-78b03b0dcd6f",
   "metadata": {},
   "outputs": [
    {
     "name": "stdout",
     "output_type": "stream",
     "text": [
      "[1, 4, 9, 16, 25, 36, 49, 64, 81]\n",
      "[1, 4, 9, 16, 25, 36, 49, 64, 81]\n"
     ]
    }
   ],
   "source": [
    "squares=[]\n",
    "for value in range(1,10):\n",
    "    square=value**2\n",
    "    squares.append(square)\n",
    "print(squares)\n",
    "\n",
    "#List Comprehensions\n",
    "squares=[value**2 for value in range(1,10)]\n",
    "print(squares)"
   ]
  },
  {
   "cell_type": "code",
   "execution_count": 50,
   "id": "75bba145-85f2-47b9-a024-df7b7bec9107",
   "metadata": {},
   "outputs": [
    {
     "name": "stdout",
     "output_type": "stream",
     "text": [
      "[1, 2, 3, 4, 5, 6, 7, 8, 9, 10]\n",
      "10\n",
      "1\n",
      "55\n"
     ]
    }
   ],
   "source": [
    "# Simple Statistics with a List of Numbers\n",
    "digits=list(range(1,11))\n",
    "print(digits)\n",
    "print(max(digits))\n",
    "print(min(digits))\n",
    "print(sum(digits))"
   ]
  },
  {
   "cell_type": "markdown",
   "id": "d69ddba4-d915-43ba-afb1-afb5b121f36c",
   "metadata": {},
   "source": [
    "#### Working with part of a List\n",
    "\n",
    "> You can include a third value in the brackets indicating a slice. If a third value is\n",
    "included, this tells Python how many items to skip between items in the specified\n",
    "range."
   ]
  },
  {
   "cell_type": "code",
   "execution_count": 5,
   "id": "2cbb9457-6056-46c0-bb98-a42ae7ea23c2",
   "metadata": {},
   "outputs": [
    {
     "name": "stdout",
     "output_type": "stream",
     "text": [
      "['RedBull', 'Maclaren', 'Ferrari']\n",
      "['Williams', 'Haas', 'Aston_Martin']\n",
      "['RedBull', 'Maclaren', 'Ferrari', 'Alpine']\n",
      "['Alpine', 'RB', 'Saber', 'Williams', 'Haas', 'Aston_Martin']\n",
      "['Williams', 'Haas', 'Aston_Martin']\n"
     ]
    }
   ],
   "source": [
    "F1_Teams=['RedBull','Maclaren','Ferrari','Alpine','RB','Saber','Williams','Haas','Aston_Martin']\n",
    "#Slicing a List\n",
    "print(F1_Teams[0:3])\n",
    "print(F1_Teams[6:10])\n",
    "\n",
    "#If we omit the first index, Python automatically starts the slice at the beginning\n",
    "print(F1_Teams[:4])\n",
    "\n",
    "# If we omit the last index then Python will slice till last\n",
    "print(F1_Teams[3:])\n",
    "\n",
    "#Using negative index to slice the last three teams\n",
    "print(F1_Teams[-3:])"
   ]
  },
  {
   "cell_type": "markdown",
   "id": "f42c687f-838a-4b3d-9049-4089144c7aac",
   "metadata": {},
   "source": [
    "#### Looping through a slice"
   ]
  },
  {
   "cell_type": "code",
   "execution_count": 2,
   "id": "3ebca6d4-9c25-40a4-84dc-44033f996096",
   "metadata": {},
   "outputs": [
    {
     "name": "stdout",
     "output_type": "stream",
     "text": [
      "Here are the top three teams:\n",
      "RedBull\n",
      "Maclaren\n",
      "Ferrari\n"
     ]
    }
   ],
   "source": [
    " F1_Teams=['RedBull','Maclaren','Ferrari','Alpine','RB','Saber','Williams','Haas','Aston_Martin']\n",
    "print(\"Here are the top three teams:\")\n",
    "for F1_Team in F1_Teams[:3]:\n",
    "    print(F1_Team)"
   ]
  },
  {
   "cell_type": "markdown",
   "id": "3fa88b7e-af97-4432-bee2-b7971ad1d019",
   "metadata": {},
   "source": [
    "#### Copying a List\n",
    "To copy a list, you can make a slice that includes the entire original list by omitting the first index and the second index ([:])."
   ]
  },
  {
   "cell_type": "code",
   "execution_count": 14,
   "id": "b776c0fa-4bf0-4772-9267-f84c355db601",
   "metadata": {},
   "outputs": [
    {
     "name": "stdout",
     "output_type": "stream",
     "text": [
      "My F1 Team is :\n",
      "['RedBull', 'Maclaren', 'Ferrari', 'Alpine', 'RB', 'Saber', 'Williams', 'Haas', 'Aston_Martin']\n",
      "\n",
      "My F2 team is :\n",
      "['RedBull', 'Maclaren', 'Ferrari', 'Alpine', 'RB', 'Saber', 'Williams', 'Haas', 'Aston_Martin']\n",
      "\n",
      "\n",
      "['RedBull', 'Maclaren', 'Ferrari', 'Alpine', 'RB', 'Saber', 'Williams', 'Haas', 'Aston_Martin', 'Audi']\n",
      "['RedBull', 'Maclaren', 'Ferrari', 'Alpine', 'RB', 'Saber', 'Williams', 'Haas', 'Aston_Martin', 'BMW']\n"
     ]
    }
   ],
   "source": [
    "F1_Teams=['RedBull','Maclaren','Ferrari','Alpine','RB','Saber','Williams','Haas','Aston_Martin']\n",
    "F2_Teams=F1_Teams[:]\n",
    "print(\"My F1 Team is :\")\n",
    "print(F1_Teams)\n",
    "print (\"\\nMy F2 team is :\")\n",
    "print(F2_Teams)\n",
    "print(\"\\n\")\n",
    "\n",
    "# To prove we have two new lists, lets add items in the list\n",
    "F1_Teams.append('Audi')\n",
    "F2_Teams.append('BMW')\n",
    "print(F1_Teams)\n",
    "print(F2_Teams)\n",
    "\n",
    "#If we did F2_Teams=F1_Teams, This syntax actually tells Python to associate the new variable with the list that is \n",
    "# already associated with F1_Teams, so now both variables point to the same list."
   ]
  },
  {
   "cell_type": "markdown",
   "id": "b8dc7d17-65a5-4a10-a6c1-eaf678471afe",
   "metadata": {},
   "source": [
    "## Tuples\n",
    "Python refers to values that cannot change as immutable, and an immutable list is called a tuple.\n",
    "\n",
    "A tuple looks just like a list, except you use parentheses instead of square brackets.\n",
    "\n",
    "Tuples are technically defined by the presence of a comma; the parentheses make them\n",
    "look neater and more readable. If you want to define a tuple with one element, you\n",
    "need to include a trailing comma:\n",
    "\n",
    "my_t = (3,)\n",
    "\n",
    "It doesn’t often make sense to build a tuple with one element, but this can happen\n",
    "when tuples are generated automatically."
   ]
  },
  {
   "cell_type": "code",
   "execution_count": 15,
   "id": "328bcaf7-f795-4173-a080-8942e5453bf0",
   "metadata": {},
   "outputs": [
    {
     "name": "stdout",
     "output_type": "stream",
     "text": [
      "250\n",
      "50\n"
     ]
    }
   ],
   "source": [
    "dimension=(250,50)\n",
    "print(dimension[0])\n",
    "print(dimension[1])"
   ]
  },
  {
   "cell_type": "code",
   "execution_count": 16,
   "id": "1ffaa125-2af6-4090-ae08-354bb99df45f",
   "metadata": {},
   "outputs": [
    {
     "ename": "TypeError",
     "evalue": "'tuple' object does not support item assignment",
     "output_type": "error",
     "traceback": [
      "\u001b[1;31m---------------------------------------------------------------------------\u001b[0m",
      "\u001b[1;31mTypeError\u001b[0m                                 Traceback (most recent call last)",
      "Cell \u001b[1;32mIn[16], line 3\u001b[0m\n\u001b[0;32m      1\u001b[0m \u001b[38;5;66;03m# Let's try to change the item in Tuple\u001b[39;00m\n\u001b[0;32m      2\u001b[0m dimension\u001b[38;5;241m=\u001b[39m(\u001b[38;5;241m250\u001b[39m,\u001b[38;5;241m50\u001b[39m)\n\u001b[1;32m----> 3\u001b[0m \u001b[43mdimension\u001b[49m\u001b[43m[\u001b[49m\u001b[38;5;241;43m0\u001b[39;49m\u001b[43m]\u001b[49m\u001b[38;5;241m=\u001b[39m\u001b[38;5;241m200\u001b[39m\n",
      "\u001b[1;31mTypeError\u001b[0m: 'tuple' object does not support item assignment"
     ]
    }
   ],
   "source": [
    "# Let's try to change the item in Tuple\n",
    "dimension=(250,50)\n",
    "dimension[0]=200\n"
   ]
  },
  {
   "cell_type": "code",
   "execution_count": null,
   "id": "efb11e5e-713c-467e-8776-f4f976f7b3be",
   "metadata": {},
   "outputs": [],
   "source": []
  }
 ],
 "metadata": {
  "kernelspec": {
   "display_name": "Python 3 (ipykernel)",
   "language": "python",
   "name": "python3"
  },
  "language_info": {
   "codemirror_mode": {
    "name": "ipython",
    "version": 3
   },
   "file_extension": ".py",
   "mimetype": "text/x-python",
   "name": "python",
   "nbconvert_exporter": "python",
   "pygments_lexer": "ipython3",
   "version": "3.13.0"
  }
 },
 "nbformat": 4,
 "nbformat_minor": 5
}
