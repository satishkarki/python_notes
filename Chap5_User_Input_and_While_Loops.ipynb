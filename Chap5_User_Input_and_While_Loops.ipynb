{
 "cells": [
  {
   "cell_type": "markdown",
   "id": "017fc307-2a45-4f5d-ba1f-ab8e2b09b416",
   "metadata": {},
   "source": [
    "## User Input"
   ]
  },
  {
   "cell_type": "code",
   "execution_count": 2,
   "id": "37cfe77f-0422-478b-ad1b-96111dfe68e1",
   "metadata": {},
   "outputs": [
    {
     "name": "stdin",
     "output_type": "stream",
     "text": [
      "Tell me your favourite racing team: Red Bull\n"
     ]
    },
    {
     "name": "stdout",
     "output_type": "stream",
     "text": [
      "You seems to love Red Bull a lot\n"
     ]
    }
   ],
   "source": [
    "message=input(\"Tell me your favourite racing team:\")\n",
    "print(f\"You seems to love {message} a lot\")"
   ]
  },
  {
   "cell_type": "markdown",
   "id": "3ef495a5-07df-4d62-b496-dae1905b971f",
   "metadata": {},
   "source": [
    "#### Using int() to accept numerical input"
   ]
  },
  {
   "cell_type": "code",
   "execution_count": 7,
   "id": "3091eb10-5a7b-4340-83da-78d6f6582167",
   "metadata": {},
   "outputs": [
    {
     "name": "stdin",
     "output_type": "stream",
     "text": [
      "What is the current score of Max Verstappen? 350\n"
     ]
    },
    {
     "name": "stdout",
     "output_type": "stream",
     "text": [
      " Max has scored 350 points this season\n"
     ]
    },
    {
     "data": {
      "text/plain": [
       "'350'"
      ]
     },
     "execution_count": 7,
     "metadata": {},
     "output_type": "execute_result"
    }
   ],
   "source": [
    "rank=input(\"What is the current score of Max Verstappen?\")\n",
    "print(f\" Max has scored {rank} points this season\")\n",
    "rank"
   ]
  },
  {
   "cell_type": "code",
   "execution_count": 9,
   "id": "5b012a80-e9fd-43b8-a78c-379435bd8828",
   "metadata": {},
   "outputs": [
    {
     "name": "stdin",
     "output_type": "stream",
     "text": [
      "What is the current score of Max Verstappen? 350\n"
     ]
    },
    {
     "name": "stdout",
     "output_type": "stream",
     "text": [
      " Max has scored 350 points this season\n"
     ]
    },
    {
     "data": {
      "text/plain": [
       "350"
      ]
     },
     "execution_count": 9,
     "metadata": {},
     "output_type": "execute_result"
    }
   ],
   "source": [
    "rank=int(input(\"What is the current score of Max Verstappen?\"))\n",
    "print(f\" Max has scored {rank} points this season\")\n",
    "rank"
   ]
  },
  {
   "cell_type": "markdown",
   "id": "6ddcf5f0-d25d-4e83-ae42-ad2573830eba",
   "metadata": {},
   "source": [
    "## While Loop"
   ]
  },
  {
   "cell_type": "code",
   "execution_count": 11,
   "id": "4a49af77-3dc3-483a-90ff-e958e2afc950",
   "metadata": {},
   "outputs": [
    {
     "name": "stdout",
     "output_type": "stream",
     "text": [
      "1\n",
      "2\n",
      "3\n",
      "4\n",
      "5\n"
     ]
    }
   ],
   "source": [
    "current_number=1\n",
    "while current_number<=5:\n",
    "    print(current_number)\n",
    "    current_number+=1"
   ]
  },
  {
   "cell_type": "code",
   "execution_count": 18,
   "id": "708f4537-bcf6-4ae2-b335-b7310a3185bf",
   "metadata": {},
   "outputs": [
    {
     "name": "stdin",
     "output_type": "stream",
     "text": [
      "\n",
      "Tell me something, and I will repeat it back to you:\n",
      "Enter 'quit' to end the program.  ok\n"
     ]
    },
    {
     "name": "stdout",
     "output_type": "stream",
     "text": [
      "ok\n"
     ]
    },
    {
     "name": "stdin",
     "output_type": "stream",
     "text": [
      "\n",
      "Tell me something, and I will repeat it back to you:\n",
      "Enter 'quit' to end the program.  yes\n"
     ]
    },
    {
     "name": "stdout",
     "output_type": "stream",
     "text": [
      "yes\n"
     ]
    },
    {
     "name": "stdin",
     "output_type": "stream",
     "text": [
      "\n",
      "Tell me something, and I will repeat it back to you:\n",
      "Enter 'quit' to end the program.  quit\n"
     ]
    },
    {
     "name": "stdout",
     "output_type": "stream",
     "text": [
      "quit\n"
     ]
    }
   ],
   "source": [
    "#Letting the user choose when to quit\n",
    "prompt = \"\\nTell me something, and I will repeat it back to you:\"\n",
    "prompt += \"\\nEnter 'quit' to end the program. \"\n",
    "message = \"\"\n",
    "while message != 'quit':\n",
    "    message = input(prompt)\n",
    "    print(message)"
   ]
  },
  {
   "cell_type": "markdown",
   "id": "6c98758c-0b25-4fea-8ec2-b2ff7d06e663",
   "metadata": {},
   "source": [
    "#### Using a Flag"
   ]
  },
  {
   "cell_type": "code",
   "execution_count": 21,
   "id": "dce634e5-02ac-429f-bcbf-9bf0f618024b",
   "metadata": {},
   "outputs": [
    {
     "name": "stdin",
     "output_type": "stream",
     "text": [
      "\n",
      "Tell me something, and I will repeat it back to you:\n",
      "Enter 'quit' to end the program.  yes\n"
     ]
    },
    {
     "name": "stdout",
     "output_type": "stream",
     "text": [
      "yes\n"
     ]
    },
    {
     "name": "stdin",
     "output_type": "stream",
     "text": [
      "\n",
      "Tell me something, and I will repeat it back to you:\n",
      "Enter 'quit' to end the program.  quit\n"
     ]
    }
   ],
   "source": [
    "prompt = \"\\nTell me something, and I will repeat it back to you:\"\n",
    "prompt += \"\\nEnter 'quit' to end the program. \"\n",
    "\n",
    "active = True\n",
    "while active:\n",
    "    message = input(prompt)\n",
    "    if message == 'quit':\n",
    "        active = False\n",
    "    else:\n",
    "        print(message)"
   ]
  },
  {
   "cell_type": "markdown",
   "id": "76722d89-13ec-4e08-9a40-ec163297e9ee",
   "metadata": {},
   "source": [
    "#### Using break to exit a loop"
   ]
  },
  {
   "cell_type": "code",
   "execution_count": 23,
   "id": "81a37a58-86e2-497e-b7e1-c72e37c62339",
   "metadata": {},
   "outputs": [
    {
     "name": "stdin",
     "output_type": "stream",
     "text": [
      "\n",
      "Please enter the name of a city you have visited:\n",
      "(Enter 'quit' when you are finished.)  Toronto\n"
     ]
    },
    {
     "name": "stdout",
     "output_type": "stream",
     "text": [
      "I'd love to go to Toronto!\n"
     ]
    },
    {
     "name": "stdin",
     "output_type": "stream",
     "text": [
      "\n",
      "Please enter the name of a city you have visited:\n",
      "(Enter 'quit' when you are finished.)  Kathmandu\n"
     ]
    },
    {
     "name": "stdout",
     "output_type": "stream",
     "text": [
      "I'd love to go to Kathmandu!\n"
     ]
    },
    {
     "name": "stdin",
     "output_type": "stream",
     "text": [
      "\n",
      "Please enter the name of a city you have visited:\n",
      "(Enter 'quit' when you are finished.)  quit\n"
     ]
    }
   ],
   "source": [
    "#### Using break to exit a loop\n",
    "prompt = \"\\nPlease enter the name of a city you have visited:\"\n",
    "prompt += \"\\n(Enter 'quit' when you are finished.) \"\n",
    "while True:\n",
    "    city = input(prompt)\n",
    "    if city == 'quit':\n",
    "        break\n",
    "    else:\n",
    "        print(f\"I'd love to go to {city.title()}!\")"
   ]
  },
  {
   "cell_type": "markdown",
   "id": "5b5232c8-d90c-4f12-8a1a-329d829d1a51",
   "metadata": {},
   "source": [
    "#### Using Continue in a Loop\n",
    "The **continue** statement tells Python to ignore the rest of the loop and return to the beginning"
   ]
  },
  {
   "cell_type": "code",
   "execution_count": 26,
   "id": "dd20860c-2796-4b07-b1fc-a080c9e6af8b",
   "metadata": {},
   "outputs": [
    {
     "name": "stdout",
     "output_type": "stream",
     "text": [
      "1\n",
      "3\n",
      "5\n",
      "7\n",
      "9\n"
     ]
    }
   ],
   "source": [
    "current_number=0\n",
    "while current_number<10:\n",
    "    current_number+=1\n",
    "    if current_number%2==0:\n",
    "        continue\n",
    "    print(current_number)"
   ]
  },
  {
   "cell_type": "markdown",
   "id": "2eeb9930-9234-4e59-a087-2294adaf955e",
   "metadata": {},
   "source": [
    "#### Using a while Loop with Lists and Dictionaries"
   ]
  },
  {
   "cell_type": "code",
   "execution_count": 10,
   "id": "3d4b4a8d-245e-4c91-9ea4-978b75a22ab8",
   "metadata": {},
   "outputs": [
    {
     "name": "stdout",
     "output_type": "stream",
     "text": [
      "Verifying Team:FERRARI\n",
      "Verifying Team:MACLAREN\n",
      "Verifying Team:REDBULL\n",
      "your F1 team is ['Ferrari', 'Maclaren', 'RedBull']\n",
      "\n",
      "Here are the teams\n",
      "\n",
      "Ferrari\n",
      "\n",
      "Maclaren\n",
      "\n",
      "RedBull\n",
      "\n"
     ]
    }
   ],
   "source": [
    "Teams=['RedBull','Maclaren','Ferrari']\n",
    "F1_Teams=[]\n",
    "\n",
    "while Teams:\n",
    "    verify_Team=Teams.pop()\n",
    "    print(f\"Verifying Team:{verify_Team.upper()}\")\n",
    "    F1_Teams.append(verify_Team)\n",
    "\n",
    "print(f\"your F1 team is {F1_Teams}\\n\")\n",
    "\n",
    "print(\"Here are the teams\\n\")\n",
    "for F1_Team in F1_Teams:\n",
    "    print(f\"{F1_Team}\\n\")\n",
    "    \n",
    "    "
   ]
  },
  {
   "cell_type": "markdown",
   "id": "2c2848d4-5b11-43b6-ac61-41e2a48b2e05",
   "metadata": {},
   "source": [
    "#### Removing all instances of specific values from a list"
   ]
  },
  {
   "cell_type": "code",
   "execution_count": 11,
   "id": "90df2392-782f-42ad-bb7f-bf3822436435",
   "metadata": {},
   "outputs": [
    {
     "name": "stdout",
     "output_type": "stream",
     "text": [
      "['RedBull', 'Maclaren', 'Ferrari', 'BMW', 'Mercedes', 'RacingBull', 'Alpine', 'Sauber', 'Aston_Martin', 'BMW']\n",
      "['RedBull', 'Maclaren', 'Ferrari', 'Mercedes', 'RacingBull', 'Alpine', 'Sauber', 'Aston_Martin']\n"
     ]
    }
   ],
   "source": [
    "Teams=['RedBull','Maclaren','Ferrari','BMW','Mercedes','RacingBull','Alpine','Sauber','Aston_Martin','BMW']\n",
    "print(Teams)\n",
    "\n",
    "while 'BMW' in Teams:\n",
    "    Teams.remove('BMW')\n",
    "\n",
    "print(Teams)"
   ]
  },
  {
   "cell_type": "markdown",
   "id": "6c8706d7-391f-49ca-aa3e-845dfb3bbc48",
   "metadata": {},
   "source": [
    "#### Filing a Dictionary with User Input"
   ]
  },
  {
   "cell_type": "code",
   "execution_count": 16,
   "id": "1d90a62d-85ad-4aab-8c5b-dea1b32aee8e",
   "metadata": {},
   "outputs": [
    {
     "name": "stdin",
     "output_type": "stream",
     "text": [
      "Please enter the name of F1 Team you would like to register: RedBull\n",
      "Please enter the name of the driver from your team: Max\n",
      "Would you like to register another team?(yes/no) yes\n",
      "Please enter the name of F1 Team you would like to register: MacLaren\n",
      "Please enter the name of the driver from your team: Lando\n",
      "Would you like to register another team?(yes/no) yes\n",
      "Please enter the name of F1 Team you would like to register: Ferrari\n",
      "Please enter the name of the driver from your team: Charles\n",
      "Would you like to register another team?(yes/no) no\n"
     ]
    },
    {
     "name": "stdout",
     "output_type": "stream",
     "text": [
      "\n",
      "...Team registration result.....\n",
      "{'RedBull': 'Max', 'MacLaren': 'Lando', 'Ferrari': 'Charles'}\n",
      "\n",
      "Max is the driver for RedBull\n",
      "\n",
      "Lando is the driver for MacLaren\n",
      "\n",
      "Charles is the driver for Ferrari\n"
     ]
    }
   ],
   "source": [
    "F1_Teams={}\n",
    "\n",
    "#Set a flag to indicate that the condition is active\n",
    "Team_Registration=True\n",
    "\n",
    "while Team_Registration:\n",
    "    Team=input(\"Please enter the name of F1 Team you would like to register:\")\n",
    "    Team_Driver=input(\"Please enter the name of the driver from your team:\")\n",
    "\n",
    "    # Store the responses in the dictionary\n",
    "    F1_Teams[Team]=Team_Driver\n",
    "\n",
    "    repeat=input (\"Would you like to register another team?(yes/no)\")\n",
    "    if repeat=='no':\n",
    "        Team_Registration=False\n",
    "\n",
    "print(\"\\n...Team registration result.....\")\n",
    "print(F1_Teams)\n",
    "\n",
    "for team, driver in F1_Teams.items():\n",
    "    print(f\"\\n{driver} is the driver for {team}\")"
   ]
  },
  {
   "cell_type": "code",
   "execution_count": null,
   "id": "90028c90-c2d2-4838-b884-7b82f7de3d2d",
   "metadata": {},
   "outputs": [],
   "source": []
  }
 ],
 "metadata": {
  "kernelspec": {
   "display_name": "Python 3 (ipykernel)",
   "language": "python",
   "name": "python3"
  },
  "language_info": {
   "codemirror_mode": {
    "name": "ipython",
    "version": 3
   },
   "file_extension": ".py",
   "mimetype": "text/x-python",
   "name": "python",
   "nbconvert_exporter": "python",
   "pygments_lexer": "ipython3",
   "version": "3.13.0"
  }
 },
 "nbformat": 4,
 "nbformat_minor": 5
}
