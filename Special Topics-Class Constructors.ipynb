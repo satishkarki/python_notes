{
 "cells": [
  {
   "cell_type": "markdown",
   "id": "98be14f4-1637-40b0-b4ab-6538da51337f",
   "metadata": {},
   "source": [
    "## Python's Class Constructors\n",
    "Creating and initializing objects of a given class is a fundamental step in object-oriented programming. This step is often referred to as object construction or instantiation. The tool responsible for running this instantiation process is commonly known as a class constructor."
   ]
  },
  {
   "cell_type": "code",
   "execution_count": 1,
   "id": "99ee04b6-1f9a-4771-aff2-716d07df4655",
   "metadata": {},
   "outputs": [
    {
     "data": {
      "text/plain": [
       "<__main__.SomeClass at 0x14bb03923c0>"
      ]
     },
     "execution_count": 1,
     "metadata": {},
     "output_type": "execute_result"
    }
   ],
   "source": [
    "class SomeClass:\n",
    "    pass\n",
    "\n",
    "\n",
    "#call the class to construct an object\n",
    "SomeClass()\n"
   ]
  },
  {
   "cell_type": "code",
   "execution_count": null,
   "id": "854a52d5-a091-427b-83d6-6e41acddf222",
   "metadata": {},
   "outputs": [],
   "source": []
  }
 ],
 "metadata": {
  "kernelspec": {
   "display_name": "Python 3 (ipykernel)",
   "language": "python",
   "name": "python3"
  },
  "language_info": {
   "codemirror_mode": {
    "name": "ipython",
    "version": 3
   },
   "file_extension": ".py",
   "mimetype": "text/x-python",
   "name": "python",
   "nbconvert_exporter": "python",
   "pygments_lexer": "ipython3",
   "version": "3.13.0"
  }
 },
 "nbformat": 4,
 "nbformat_minor": 5
}
