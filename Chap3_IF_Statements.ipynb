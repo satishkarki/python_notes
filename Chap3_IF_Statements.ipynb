{
 "cells": [
  {
   "cell_type": "markdown",
   "id": "b14b1ec5-fafc-4d46-badd-70fb60b8ff25",
   "metadata": {},
   "source": [
    "## IF Statements\n",
    "if conditional_test:\n",
    "\n",
    "    do something"
   ]
  },
  {
   "cell_type": "code",
   "execution_count": 2,
   "id": "06dc27de-1fce-4620-a193-25bd2b2f15e2",
   "metadata": {},
   "outputs": [
    {
     "name": "stdout",
     "output_type": "stream",
     "text": [
      "REDBULL\n",
      "MACLAREN\n",
      "FERRARI\n",
      "ALPINE\n",
      "rb\n",
      "SABER\n",
      "WILLIAMS\n",
      "HAAS\n",
      "ASTON_MARTIN\n"
     ]
    }
   ],
   "source": [
    "F1_Teams=['RedBull','Maclaren','Ferrari','Alpine','RB','Saber','Williams','Haas','Aston_Martin']\n",
    "for F1_Team in F1_Teams:\n",
    "    if F1_Team=='RB':\n",
    "        print(F1_Team.lower())\n",
    "    else:\n",
    "        print(F1_Team.upper())\n"
   ]
  },
  {
   "cell_type": "code",
   "execution_count": 7,
   "id": "b6a7c4bb-b07e-41a9-a463-31a06f9d1aa3",
   "metadata": {},
   "outputs": [
    {
     "name": "stdout",
     "output_type": "stream",
     "text": [
      "True\n",
      "False\n"
     ]
    }
   ],
   "source": [
    "car=\"bmw\"\n",
    "print(car==\"bmw\")\n",
    "print(car==\"Audi\")"
   ]
  },
  {
   "cell_type": "code",
   "execution_count": 9,
   "id": "35c3f9cc-5eef-4a96-9bdc-5601ae00318d",
   "metadata": {},
   "outputs": [
    {
     "data": {
      "text/plain": [
       "False"
      ]
     },
     "execution_count": 9,
     "metadata": {},
     "output_type": "execute_result"
    }
   ],
   "source": [
    "car='bmw'\n",
    "car=='BMW'"
   ]
  },
  {
   "cell_type": "code",
   "execution_count": 10,
   "id": "764eef65-c249-4f54-ab35-f7ca513ae3ec",
   "metadata": {},
   "outputs": [
    {
     "data": {
      "text/plain": [
       "True"
      ]
     },
     "execution_count": 10,
     "metadata": {},
     "output_type": "execute_result"
    }
   ],
   "source": [
    "car='bmw'\n",
    "car.upper()=='BMW'"
   ]
  },
  {
   "cell_type": "markdown",
   "id": "e7a28659-09d1-4113-b2f9-12d89dc3ba46",
   "metadata": {},
   "source": [
    "#### Numerical Comparisons"
   ]
  },
  {
   "cell_type": "code",
   "execution_count": 11,
   "id": "d321c095-78a3-4de2-99f3-5e05eb6523a6",
   "metadata": {},
   "outputs": [
    {
     "data": {
      "text/plain": [
       "True"
      ]
     },
     "execution_count": 11,
     "metadata": {},
     "output_type": "execute_result"
    }
   ],
   "source": [
    "age=19\n",
    "age<21"
   ]
  },
  {
   "cell_type": "code",
   "execution_count": 12,
   "id": "80a348be-44ab-41ab-a6df-4021f81785ae",
   "metadata": {},
   "outputs": [
    {
     "data": {
      "text/plain": [
       "False"
      ]
     },
     "execution_count": 12,
     "metadata": {},
     "output_type": "execute_result"
    }
   ],
   "source": [
    "age>21"
   ]
  },
  {
   "cell_type": "code",
   "execution_count": 13,
   "id": "6b74b514-7cee-4417-8451-f2fb9d1d3384",
   "metadata": {},
   "outputs": [
    {
     "data": {
      "text/plain": [
       "True"
      ]
     },
     "execution_count": 13,
     "metadata": {},
     "output_type": "execute_result"
    }
   ],
   "source": [
    "age<=21"
   ]
  },
  {
   "cell_type": "code",
   "execution_count": 14,
   "id": "7f45db1d-8c55-4348-b65b-48a79615b6fe",
   "metadata": {},
   "outputs": [
    {
     "data": {
      "text/plain": [
       "False"
      ]
     },
     "execution_count": 14,
     "metadata": {},
     "output_type": "execute_result"
    }
   ],
   "source": [
    "age>=21"
   ]
  },
  {
   "cell_type": "markdown",
   "id": "66259f12-306f-4bfd-ab7b-95247899e4db",
   "metadata": {},
   "source": [
    "#### Checking Multiple Conditions"
   ]
  },
  {
   "cell_type": "code",
   "execution_count": 15,
   "id": "75e798aa-61bd-4e5a-bab4-22bf5c13546d",
   "metadata": {},
   "outputs": [
    {
     "data": {
      "text/plain": [
       "False"
      ]
     },
     "execution_count": 15,
     "metadata": {},
     "output_type": "execute_result"
    }
   ],
   "source": [
    "age_0=22\n",
    "age_1=18\n",
    "age_0>=21 and age_1>=21"
   ]
  },
  {
   "cell_type": "markdown",
   "id": "fe4dddad-25d7-4dba-a8fa-dfd1f8cce93e",
   "metadata": {},
   "source": [
    "#### Checking whether a Value is in a List"
   ]
  },
  {
   "cell_type": "code",
   "execution_count": 16,
   "id": "d5d3f1d4-f81f-45d2-8b2f-33501c21ff48",
   "metadata": {},
   "outputs": [
    {
     "data": {
      "text/plain": [
       "False"
      ]
     },
     "execution_count": 16,
     "metadata": {},
     "output_type": "execute_result"
    }
   ],
   "source": [
    "F1_Teams=['RedBull','Maclaren','Ferrari','Alpine','RB','Saber','Williams','Haas','Aston_Martin']\n",
    "'Audi' in F1_Teams"
   ]
  },
  {
   "cell_type": "code",
   "execution_count": 17,
   "id": "456b511f-1f3b-4e32-bf67-4a599e646889",
   "metadata": {},
   "outputs": [
    {
     "data": {
      "text/plain": [
       "True"
      ]
     },
     "execution_count": 17,
     "metadata": {},
     "output_type": "execute_result"
    }
   ],
   "source": [
    "F1_Teams=['RedBull','Maclaren','Ferrari','Alpine','RB','Saber','Williams','Haas','Aston_Martin']\n",
    "'RB' in F1_Teams"
   ]
  },
  {
   "cell_type": "markdown",
   "id": "8359965b-2805-4c53-bd94-52b4fbf2d68a",
   "metadata": {},
   "source": [
    "#### if-else Statements"
   ]
  },
  {
   "cell_type": "code",
   "execution_count": 18,
   "id": "18025a7b-9cbd-4876-b280-f8b02e638a31",
   "metadata": {},
   "outputs": [
    {
     "name": "stdout",
     "output_type": "stream",
     "text": [
      "Sorry, you are too young to vote.\n",
      "Please register to vote as soon as you turn 18!\n"
     ]
    }
   ],
   "source": [
    "age = 17\n",
    "if age >= 18:\n",
    "    print(\"You are old enough to vote!\")\n",
    "    print(\"Have you registered to vote yet?\")\n",
    "else:\n",
    "    print(\"Sorry, you are too young to vote.\")\n",
    "    print(\"Please register to vote as soon as you turn 18!\")"
   ]
  },
  {
   "cell_type": "markdown",
   "id": "70fb9b0a-ad35-4855-8751-fb2cdf2feefd",
   "metadata": {},
   "source": [
    "#### if-elif-else "
   ]
  },
  {
   "cell_type": "code",
   "execution_count": 19,
   "id": "1b896d40-f01f-46b9-a876-648a37bc78df",
   "metadata": {},
   "outputs": [
    {
     "name": "stdout",
     "output_type": "stream",
     "text": [
      "Your admission cost is $25.\n"
     ]
    }
   ],
   "source": [
    "age = 12\n",
    "if age < 4:\n",
    "    price = 0\n",
    "elif age < 18:\n",
    "    price = 25\n",
    "elif age < 65:\n",
    "    price = 40\n",
    "else:\n",
    "    price = 20\n",
    "print(f\"Your admission cost is ${price}.\")"
   ]
  },
  {
   "cell_type": "markdown",
   "id": "07288c4a-26ad-4ca3-b516-891238061ed6",
   "metadata": {},
   "source": [
    "#### Using if Statements with Lists"
   ]
  },
  {
   "cell_type": "code",
   "execution_count": 20,
   "id": "e0cd5555-e460-4235-b1fa-d6bd4974ae47",
   "metadata": {},
   "outputs": [
    {
     "name": "stdout",
     "output_type": "stream",
     "text": [
      "Adding mushrooms\n",
      "Sorry we are out of peppers\n",
      "Adding extra cheese\n",
      "\n",
      "Finished making your Pizza!\n"
     ]
    }
   ],
   "source": [
    "requested_toppings=['mushrooms','green peppers','extra cheese']\n",
    "for requested_topping in requested_toppings:\n",
    "    if requested_topping=='green peppers':\n",
    "        print(\"Sorry we are out of peppers\")\n",
    "    else:\n",
    "        print(f\"Adding {requested_topping}\")\n",
    "print(\"\\nFinished making your Pizza!\")"
   ]
  },
  {
   "cell_type": "markdown",
   "id": "2a773809-1337-481d-9ec8-f21f4c4dc2c7",
   "metadata": {},
   "source": [
    "#### Using Mulptiple List"
   ]
  },
  {
   "cell_type": "code",
   "execution_count": 1,
   "id": "632ae24c-3342-47f1-acd7-34f3f449f2bd",
   "metadata": {},
   "outputs": [
    {
     "name": "stdout",
     "output_type": "stream",
     "text": [
      "RedBull is a Formula 1 racing team\n",
      "Sorry Audi is not a Formula 1 racing team\n",
      "Sorry Toyota is not a Formula 1 racing team\n",
      "Sorry BMW is not a Formula 1 racing team\n"
     ]
    }
   ],
   "source": [
    "F1_Teams=['RedBull','Maclaren','Ferrari','Alpine','RB','Saber','Williams','Haas','Aston_Martin']\n",
    "Teams=['RedBull','Audi','Toyota','BMW']\n",
    "for Team in Teams:\n",
    "    if Team in F1_Teams:\n",
    "        print(f\"{Team} is a Formula 1 racing team\")\n",
    "    else:\n",
    "        print(f\"Sorry {Team} is not a Formula 1 racing team\")\n"
   ]
  },
  {
   "cell_type": "code",
   "execution_count": null,
   "id": "37ff30f0-c789-4c3e-83d8-7b7ea4e4b3b3",
   "metadata": {},
   "outputs": [],
   "source": []
  }
 ],
 "metadata": {
  "kernelspec": {
   "display_name": "Python 3 (ipykernel)",
   "language": "python",
   "name": "python3"
  },
  "language_info": {
   "codemirror_mode": {
    "name": "ipython",
    "version": 3
   },
   "file_extension": ".py",
   "mimetype": "text/x-python",
   "name": "python",
   "nbconvert_exporter": "python",
   "pygments_lexer": "ipython3",
   "version": "3.13.0"
  }
 },
 "nbformat": 4,
 "nbformat_minor": 5
}
